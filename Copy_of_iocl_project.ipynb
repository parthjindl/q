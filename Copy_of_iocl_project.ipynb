{
  "cells": [
    {
      "cell_type": "markdown",
      "metadata": {
        "id": "view-in-github",
        "colab_type": "text"
      },
      "source": [
        "<a href=\"https://colab.research.google.com/github/parthjindl/q/blob/main/Copy_of_iocl_project.ipynb\" target=\"_parent\"><img src=\"https://colab.research.google.com/assets/colab-badge.svg\" alt=\"Open In Colab\"/></a>"
      ]
    },
    {
      "cell_type": "markdown",
      "metadata": {
        "id": "LFL5P-scrYLi"
      },
      "source": [
        "### **IOCL**"
      ]
    },
    {
      "cell_type": "markdown",
      "metadata": {
        "id": "qgVbNuHJCFn6"
      },
      "source": [
        "**Data Loading**"
      ]
    },
    {
      "cell_type": "code",
      "execution_count": 1004,
      "metadata": {
        "colab": {
          "base_uri": "https://localhost:8080/"
        },
        "id": "0aJ_Ul3dQsUO",
        "outputId": "19476c83-0864-4f5f-fd57-632283808fc0"
      },
      "outputs": [
        {
          "output_type": "stream",
          "name": "stdout",
          "text": [
            "Drive already mounted at /content/drive; to attempt to forcibly remount, call drive.mount(\"/content/drive\", force_remount=True).\n"
          ]
        }
      ],
      "source": [
        "from google.colab import drive\n",
        "drive.mount('/content/drive')"
      ]
    },
    {
      "cell_type": "code",
      "execution_count": 1005,
      "metadata": {
        "id": "h_XOoaj0Qsmz"
      },
      "outputs": [],
      "source": [
        "import pandas as pd\n",
        "from collections import Counter\n",
        "data = pd.read_csv(\"/content/drive/MyDrive/IOCreviews5000.csv\")"
      ]
    },
    {
      "cell_type": "code",
      "execution_count": 1006,
      "metadata": {
        "colab": {
          "base_uri": "https://localhost:8080/"
        },
        "collapsed": true,
        "id": "6wgjfHybQs43",
        "outputId": "ba95872d-1e29-4c3e-f7b3-daf9faaf1241"
      },
      "outputs": [
        {
          "output_type": "execute_result",
          "data": {
            "text/plain": [
              "(5000, 36)"
            ]
          },
          "metadata": {},
          "execution_count": 1006
        }
      ],
      "source": [
        "data.shape"
      ]
    },
    {
      "cell_type": "code",
      "execution_count": 1007,
      "metadata": {
        "id": "wcnYqtcOajAL"
      },
      "outputs": [],
      "source": [
        "def f(s):\n",
        "  if s==\"Haryana\" :\n",
        "    return 1 \n",
        "  elif s==\"Madhya Pradesh\" :\n",
        "    return 2\n",
        "  elif s==\"Manipur\" :\n",
        "    return 3\n",
        "  elif s==\"Telangana\" :\n",
        "    return 4\n",
        "  elif s==\"Bihar\" :\n",
        "    return 5\n",
        "  elif s==\"Assam\" :\n",
        "    return 6\n",
        "  elif s==\"Punjab\" :\n",
        "    return 7\n",
        "  else :\n",
        "    return 8"
      ]
    },
    {
      "cell_type": "code",
      "source": [
        "def fix (s):\n",
        "  if float(s) >= 3.9:\n",
        "    return 1\n",
        "  else:\n",
        "    return 0\n"
      ],
      "metadata": {
        "id": "F-fCfy7JesZj"
      },
      "execution_count": 1008,
      "outputs": []
    },
    {
      "cell_type": "code",
      "execution_count": 1009,
      "metadata": {
        "id": "LScQMNhqe0mQ"
      },
      "outputs": [],
      "source": [
        "data[\"State\"] = data.state.apply(f)"
      ]
    },
    {
      "cell_type": "code",
      "source": [
        "data[\"Rating\"] = data.Rating.apply(fix)"
      ],
      "metadata": {
        "id": "66MbXQk-fl6O"
      },
      "execution_count": 1010,
      "outputs": []
    },
    {
      "cell_type": "code",
      "execution_count": 1011,
      "metadata": {
        "colab": {
          "base_uri": "https://localhost:8080/"
        },
        "id": "Tg2CX43LknBt",
        "outputId": "17d3f946-4707-475c-9955-a8dbbe542a51"
      },
      "outputs": [
        {
          "output_type": "execute_result",
          "data": {
            "text/plain": [
              "(5000, 37)"
            ]
          },
          "metadata": {},
          "execution_count": 1011
        }
      ],
      "source": [
        "data.shape"
      ]
    },
    {
      "cell_type": "code",
      "execution_count": 1012,
      "metadata": {
        "colab": {
          "base_uri": "https://localhost:8080/"
        },
        "id": "6PekKe97fLAr",
        "outputId": "001fb458-539e-4861-8483-b8923b98004b"
      },
      "outputs": [
        {
          "output_type": "stream",
          "name": "stdout",
          "text": [
            "Looking in indexes: https://pypi.org/simple, https://us-python.pkg.dev/colab-wheels/public/simple/\n",
            "Requirement already satisfied: pandasql in /usr/local/lib/python3.7/dist-packages (0.7.3)\n",
            "Requirement already satisfied: numpy in /usr/local/lib/python3.7/dist-packages (from pandasql) (1.21.6)\n",
            "Requirement already satisfied: sqlalchemy in /usr/local/lib/python3.7/dist-packages (from pandasql) (1.4.43)\n",
            "Requirement already satisfied: pandas in /usr/local/lib/python3.7/dist-packages (from pandasql) (1.3.5)\n",
            "Requirement already satisfied: pytz>=2017.3 in /usr/local/lib/python3.7/dist-packages (from pandas->pandasql) (2022.6)\n",
            "Requirement already satisfied: python-dateutil>=2.7.3 in /usr/local/lib/python3.7/dist-packages (from pandas->pandasql) (2.8.2)\n",
            "Requirement already satisfied: six>=1.5 in /usr/local/lib/python3.7/dist-packages (from python-dateutil>=2.7.3->pandas->pandasql) (1.15.0)\n",
            "Requirement already satisfied: importlib-metadata in /usr/local/lib/python3.7/dist-packages (from sqlalchemy->pandasql) (4.13.0)\n",
            "Requirement already satisfied: greenlet!=0.4.17 in /usr/local/lib/python3.7/dist-packages (from sqlalchemy->pandasql) (2.0.1)\n",
            "Requirement already satisfied: typing-extensions>=3.6.4 in /usr/local/lib/python3.7/dist-packages (from importlib-metadata->sqlalchemy->pandasql) (4.1.1)\n",
            "Requirement already satisfied: zipp>=0.5 in /usr/local/lib/python3.7/dist-packages (from importlib-metadata->sqlalchemy->pandasql) (3.10.0)\n"
          ]
        }
      ],
      "source": [
        "!pip install pandasql\n",
        "from pandasql import sqldf\n",
        "q1 = \"\"\"\n",
        "         select 'RO Code', 'PIN Code','State', 'Rating', 'Review'\n",
        "         \n",
        "\"\"\""
      ]
    },
    {
      "cell_type": "code",
      "execution_count": 1013,
      "metadata": {
        "colab": {
          "base_uri": "https://localhost:8080/"
        },
        "id": "pSM87hnpkrOy",
        "outputId": "20ed60ae-5f43-4b00-d5ec-aaf308546b98"
      },
      "outputs": [
        {
          "output_type": "execute_result",
          "data": {
            "text/plain": [
              "(5000, 37)"
            ]
          },
          "metadata": {},
          "execution_count": 1013
        }
      ],
      "source": [
        "data.shape"
      ]
    },
    {
      "cell_type": "code",
      "execution_count": 1014,
      "metadata": {
        "id": "9HRp91OpZ8wd"
      },
      "outputs": [],
      "source": [
        "#pysqldf = lambda q: sqldf(q, globals())\n",
        "#data = pysqldf(q1)"
      ]
    },
    {
      "cell_type": "code",
      "execution_count": 1015,
      "metadata": {
        "colab": {
          "base_uri": "https://localhost:8080/"
        },
        "id": "1g-bL7d8bAfI",
        "outputId": "27a20417-f18f-4173-8b49-6058c30e38af"
      },
      "outputs": [
        {
          "output_type": "execute_result",
          "data": {
            "text/plain": [
              "(5000, 37)"
            ]
          },
          "metadata": {},
          "execution_count": 1015
        }
      ],
      "source": [
        "data.shape"
      ]
    },
    {
      "cell_type": "code",
      "execution_count": 1016,
      "metadata": {
        "id": "lK_3KSxwE8Ra"
      },
      "outputs": [],
      "source": [
        "## Counter(clean[\"editorsSelection\"])"
      ]
    },
    {
      "cell_type": "markdown",
      "metadata": {
        "id": "wfg3SrJAQ4y6"
      },
      "source": [
        "** *Text Cleaning**\n",
        "\n",
        "> Indented block\n",
        "\n"
      ]
    },
    {
      "cell_type": "code",
      "execution_count": 1017,
      "metadata": {
        "colab": {
          "base_uri": "https://localhost:8080/"
        },
        "id": "SpIN5XeAvjns",
        "outputId": "c3176b18-6cce-44bc-b798-9e5940f37722"
      },
      "outputs": [
        {
          "output_type": "stream",
          "name": "stdout",
          "text": [
            "Looking in indexes: https://pypi.org/simple, https://us-python.pkg.dev/colab-wheels/public/simple/\n",
            "Requirement already satisfied: nltk in /usr/local/lib/python3.7/dist-packages (3.7)\n",
            "Requirement already satisfied: joblib in /usr/local/lib/python3.7/dist-packages (from nltk) (1.2.0)\n",
            "Requirement already satisfied: click in /usr/local/lib/python3.7/dist-packages (from nltk) (7.1.2)\n",
            "Requirement already satisfied: tqdm in /usr/local/lib/python3.7/dist-packages (from nltk) (4.64.1)\n",
            "Requirement already satisfied: regex>=2021.8.3 in /usr/local/lib/python3.7/dist-packages (from nltk) (2022.6.2)\n"
          ]
        },
        {
          "output_type": "stream",
          "name": "stderr",
          "text": [
            "[nltk_data] Downloading collection 'all'\n",
            "[nltk_data]    | \n",
            "[nltk_data]    | Downloading package abc to /root/nltk_data...\n",
            "[nltk_data]    |   Package abc is already up-to-date!\n",
            "[nltk_data]    | Downloading package alpino to /root/nltk_data...\n",
            "[nltk_data]    |   Package alpino is already up-to-date!\n",
            "[nltk_data]    | Downloading package averaged_perceptron_tagger to\n",
            "[nltk_data]    |     /root/nltk_data...\n",
            "[nltk_data]    |   Package averaged_perceptron_tagger is already up-\n",
            "[nltk_data]    |       to-date!\n",
            "[nltk_data]    | Downloading package averaged_perceptron_tagger_ru to\n",
            "[nltk_data]    |     /root/nltk_data...\n",
            "[nltk_data]    |   Package averaged_perceptron_tagger_ru is already\n",
            "[nltk_data]    |       up-to-date!\n",
            "[nltk_data]    | Downloading package basque_grammars to\n",
            "[nltk_data]    |     /root/nltk_data...\n",
            "[nltk_data]    |   Package basque_grammars is already up-to-date!\n",
            "[nltk_data]    | Downloading package biocreative_ppi to\n",
            "[nltk_data]    |     /root/nltk_data...\n",
            "[nltk_data]    |   Package biocreative_ppi is already up-to-date!\n",
            "[nltk_data]    | Downloading package bllip_wsj_no_aux to\n",
            "[nltk_data]    |     /root/nltk_data...\n",
            "[nltk_data]    |   Package bllip_wsj_no_aux is already up-to-date!\n",
            "[nltk_data]    | Downloading package book_grammars to\n",
            "[nltk_data]    |     /root/nltk_data...\n",
            "[nltk_data]    |   Package book_grammars is already up-to-date!\n",
            "[nltk_data]    | Downloading package brown to /root/nltk_data...\n",
            "[nltk_data]    |   Package brown is already up-to-date!\n",
            "[nltk_data]    | Downloading package brown_tei to /root/nltk_data...\n",
            "[nltk_data]    |   Package brown_tei is already up-to-date!\n",
            "[nltk_data]    | Downloading package cess_cat to /root/nltk_data...\n",
            "[nltk_data]    |   Package cess_cat is already up-to-date!\n",
            "[nltk_data]    | Downloading package cess_esp to /root/nltk_data...\n",
            "[nltk_data]    |   Package cess_esp is already up-to-date!\n",
            "[nltk_data]    | Downloading package chat80 to /root/nltk_data...\n",
            "[nltk_data]    |   Package chat80 is already up-to-date!\n",
            "[nltk_data]    | Downloading package city_database to\n",
            "[nltk_data]    |     /root/nltk_data...\n",
            "[nltk_data]    |   Package city_database is already up-to-date!\n",
            "[nltk_data]    | Downloading package cmudict to /root/nltk_data...\n",
            "[nltk_data]    |   Package cmudict is already up-to-date!\n",
            "[nltk_data]    | Downloading package comparative_sentences to\n",
            "[nltk_data]    |     /root/nltk_data...\n",
            "[nltk_data]    |   Package comparative_sentences is already up-to-\n",
            "[nltk_data]    |       date!\n",
            "[nltk_data]    | Downloading package comtrans to /root/nltk_data...\n",
            "[nltk_data]    |   Package comtrans is already up-to-date!\n",
            "[nltk_data]    | Downloading package conll2000 to /root/nltk_data...\n",
            "[nltk_data]    |   Package conll2000 is already up-to-date!\n",
            "[nltk_data]    | Downloading package conll2002 to /root/nltk_data...\n",
            "[nltk_data]    |   Package conll2002 is already up-to-date!\n",
            "[nltk_data]    | Downloading package conll2007 to /root/nltk_data...\n",
            "[nltk_data]    |   Package conll2007 is already up-to-date!\n",
            "[nltk_data]    | Downloading package crubadan to /root/nltk_data...\n",
            "[nltk_data]    |   Package crubadan is already up-to-date!\n",
            "[nltk_data]    | Downloading package dependency_treebank to\n",
            "[nltk_data]    |     /root/nltk_data...\n",
            "[nltk_data]    |   Package dependency_treebank is already up-to-date!\n",
            "[nltk_data]    | Downloading package dolch to /root/nltk_data...\n",
            "[nltk_data]    |   Package dolch is already up-to-date!\n",
            "[nltk_data]    | Downloading package europarl_raw to\n",
            "[nltk_data]    |     /root/nltk_data...\n",
            "[nltk_data]    |   Package europarl_raw is already up-to-date!\n",
            "[nltk_data]    | Downloading package extended_omw to\n",
            "[nltk_data]    |     /root/nltk_data...\n",
            "[nltk_data]    |   Package extended_omw is already up-to-date!\n",
            "[nltk_data]    | Downloading package floresta to /root/nltk_data...\n",
            "[nltk_data]    |   Package floresta is already up-to-date!\n",
            "[nltk_data]    | Downloading package framenet_v15 to\n",
            "[nltk_data]    |     /root/nltk_data...\n",
            "[nltk_data]    |   Package framenet_v15 is already up-to-date!\n",
            "[nltk_data]    | Downloading package framenet_v17 to\n",
            "[nltk_data]    |     /root/nltk_data...\n",
            "[nltk_data]    |   Package framenet_v17 is already up-to-date!\n",
            "[nltk_data]    | Downloading package gazetteers to /root/nltk_data...\n",
            "[nltk_data]    |   Package gazetteers is already up-to-date!\n",
            "[nltk_data]    | Downloading package genesis to /root/nltk_data...\n",
            "[nltk_data]    |   Package genesis is already up-to-date!\n",
            "[nltk_data]    | Downloading package gutenberg to /root/nltk_data...\n",
            "[nltk_data]    |   Package gutenberg is already up-to-date!\n",
            "[nltk_data]    | Downloading package ieer to /root/nltk_data...\n",
            "[nltk_data]    |   Package ieer is already up-to-date!\n",
            "[nltk_data]    | Downloading package inaugural to /root/nltk_data...\n",
            "[nltk_data]    |   Package inaugural is already up-to-date!\n",
            "[nltk_data]    | Downloading package indian to /root/nltk_data...\n",
            "[nltk_data]    |   Package indian is already up-to-date!\n",
            "[nltk_data]    | Downloading package jeita to /root/nltk_data...\n",
            "[nltk_data]    |   Package jeita is already up-to-date!\n",
            "[nltk_data]    | Downloading package kimmo to /root/nltk_data...\n",
            "[nltk_data]    |   Package kimmo is already up-to-date!\n",
            "[nltk_data]    | Downloading package knbc to /root/nltk_data...\n",
            "[nltk_data]    |   Package knbc is already up-to-date!\n",
            "[nltk_data]    | Downloading package large_grammars to\n",
            "[nltk_data]    |     /root/nltk_data...\n",
            "[nltk_data]    |   Package large_grammars is already up-to-date!\n",
            "[nltk_data]    | Downloading package lin_thesaurus to\n",
            "[nltk_data]    |     /root/nltk_data...\n",
            "[nltk_data]    |   Package lin_thesaurus is already up-to-date!\n",
            "[nltk_data]    | Downloading package mac_morpho to /root/nltk_data...\n",
            "[nltk_data]    |   Package mac_morpho is already up-to-date!\n",
            "[nltk_data]    | Downloading package machado to /root/nltk_data...\n",
            "[nltk_data]    |   Package machado is already up-to-date!\n",
            "[nltk_data]    | Downloading package masc_tagged to /root/nltk_data...\n",
            "[nltk_data]    |   Package masc_tagged is already up-to-date!\n",
            "[nltk_data]    | Downloading package maxent_ne_chunker to\n",
            "[nltk_data]    |     /root/nltk_data...\n",
            "[nltk_data]    |   Package maxent_ne_chunker is already up-to-date!\n",
            "[nltk_data]    | Downloading package maxent_treebank_pos_tagger to\n",
            "[nltk_data]    |     /root/nltk_data...\n",
            "[nltk_data]    |   Package maxent_treebank_pos_tagger is already up-\n",
            "[nltk_data]    |       to-date!\n",
            "[nltk_data]    | Downloading package moses_sample to\n",
            "[nltk_data]    |     /root/nltk_data...\n",
            "[nltk_data]    |   Package moses_sample is already up-to-date!\n",
            "[nltk_data]    | Downloading package movie_reviews to\n",
            "[nltk_data]    |     /root/nltk_data...\n",
            "[nltk_data]    |   Package movie_reviews is already up-to-date!\n",
            "[nltk_data]    | Downloading package mte_teip5 to /root/nltk_data...\n",
            "[nltk_data]    |   Package mte_teip5 is already up-to-date!\n",
            "[nltk_data]    | Downloading package mwa_ppdb to /root/nltk_data...\n",
            "[nltk_data]    |   Package mwa_ppdb is already up-to-date!\n",
            "[nltk_data]    | Downloading package names to /root/nltk_data...\n",
            "[nltk_data]    |   Package names is already up-to-date!\n",
            "[nltk_data]    | Downloading package nombank.1.0 to /root/nltk_data...\n",
            "[nltk_data]    |   Package nombank.1.0 is already up-to-date!\n",
            "[nltk_data]    | Downloading package nonbreaking_prefixes to\n",
            "[nltk_data]    |     /root/nltk_data...\n",
            "[nltk_data]    |   Package nonbreaking_prefixes is already up-to-date!\n",
            "[nltk_data]    | Downloading package nps_chat to /root/nltk_data...\n",
            "[nltk_data]    |   Package nps_chat is already up-to-date!\n",
            "[nltk_data]    | Downloading package omw to /root/nltk_data...\n",
            "[nltk_data]    |   Package omw is already up-to-date!\n",
            "[nltk_data]    | Downloading package omw-1.4 to /root/nltk_data...\n",
            "[nltk_data]    |   Package omw-1.4 is already up-to-date!\n",
            "[nltk_data]    | Downloading package opinion_lexicon to\n",
            "[nltk_data]    |     /root/nltk_data...\n",
            "[nltk_data]    |   Package opinion_lexicon is already up-to-date!\n",
            "[nltk_data]    | Downloading package panlex_swadesh to\n",
            "[nltk_data]    |     /root/nltk_data...\n",
            "[nltk_data]    |   Package panlex_swadesh is already up-to-date!\n",
            "[nltk_data]    | Downloading package paradigms to /root/nltk_data...\n",
            "[nltk_data]    |   Package paradigms is already up-to-date!\n",
            "[nltk_data]    | Downloading package pe08 to /root/nltk_data...\n",
            "[nltk_data]    |   Package pe08 is already up-to-date!\n",
            "[nltk_data]    | Downloading package perluniprops to\n",
            "[nltk_data]    |     /root/nltk_data...\n",
            "[nltk_data]    |   Package perluniprops is already up-to-date!\n",
            "[nltk_data]    | Downloading package pil to /root/nltk_data...\n",
            "[nltk_data]    |   Package pil is already up-to-date!\n",
            "[nltk_data]    | Downloading package pl196x to /root/nltk_data...\n",
            "[nltk_data]    |   Package pl196x is already up-to-date!\n",
            "[nltk_data]    | Downloading package porter_test to /root/nltk_data...\n",
            "[nltk_data]    |   Package porter_test is already up-to-date!\n",
            "[nltk_data]    | Downloading package ppattach to /root/nltk_data...\n",
            "[nltk_data]    |   Package ppattach is already up-to-date!\n",
            "[nltk_data]    | Downloading package problem_reports to\n",
            "[nltk_data]    |     /root/nltk_data...\n",
            "[nltk_data]    |   Package problem_reports is already up-to-date!\n",
            "[nltk_data]    | Downloading package product_reviews_1 to\n",
            "[nltk_data]    |     /root/nltk_data...\n",
            "[nltk_data]    |   Package product_reviews_1 is already up-to-date!\n",
            "[nltk_data]    | Downloading package product_reviews_2 to\n",
            "[nltk_data]    |     /root/nltk_data...\n",
            "[nltk_data]    |   Package product_reviews_2 is already up-to-date!\n",
            "[nltk_data]    | Downloading package propbank to /root/nltk_data...\n",
            "[nltk_data]    |   Package propbank is already up-to-date!\n",
            "[nltk_data]    | Downloading package pros_cons to /root/nltk_data...\n",
            "[nltk_data]    |   Package pros_cons is already up-to-date!\n",
            "[nltk_data]    | Downloading package ptb to /root/nltk_data...\n",
            "[nltk_data]    |   Package ptb is already up-to-date!\n",
            "[nltk_data]    | Downloading package punkt to /root/nltk_data...\n",
            "[nltk_data]    |   Package punkt is already up-to-date!\n",
            "[nltk_data]    | Downloading package qc to /root/nltk_data...\n",
            "[nltk_data]    |   Package qc is already up-to-date!\n",
            "[nltk_data]    | Downloading package reuters to /root/nltk_data...\n",
            "[nltk_data]    |   Package reuters is already up-to-date!\n",
            "[nltk_data]    | Downloading package rslp to /root/nltk_data...\n",
            "[nltk_data]    |   Package rslp is already up-to-date!\n",
            "[nltk_data]    | Downloading package rte to /root/nltk_data...\n",
            "[nltk_data]    |   Package rte is already up-to-date!\n",
            "[nltk_data]    | Downloading package sample_grammars to\n",
            "[nltk_data]    |     /root/nltk_data...\n",
            "[nltk_data]    |   Package sample_grammars is already up-to-date!\n",
            "[nltk_data]    | Downloading package semcor to /root/nltk_data...\n",
            "[nltk_data]    |   Package semcor is already up-to-date!\n",
            "[nltk_data]    | Downloading package senseval to /root/nltk_data...\n",
            "[nltk_data]    |   Package senseval is already up-to-date!\n",
            "[nltk_data]    | Downloading package sentence_polarity to\n",
            "[nltk_data]    |     /root/nltk_data...\n",
            "[nltk_data]    |   Package sentence_polarity is already up-to-date!\n",
            "[nltk_data]    | Downloading package sentiwordnet to\n",
            "[nltk_data]    |     /root/nltk_data...\n",
            "[nltk_data]    |   Package sentiwordnet is already up-to-date!\n",
            "[nltk_data]    | Downloading package shakespeare to /root/nltk_data...\n",
            "[nltk_data]    |   Package shakespeare is already up-to-date!\n",
            "[nltk_data]    | Downloading package sinica_treebank to\n",
            "[nltk_data]    |     /root/nltk_data...\n",
            "[nltk_data]    |   Package sinica_treebank is already up-to-date!\n",
            "[nltk_data]    | Downloading package smultron to /root/nltk_data...\n",
            "[nltk_data]    |   Package smultron is already up-to-date!\n",
            "[nltk_data]    | Downloading package snowball_data to\n",
            "[nltk_data]    |     /root/nltk_data...\n",
            "[nltk_data]    |   Package snowball_data is already up-to-date!\n",
            "[nltk_data]    | Downloading package spanish_grammars to\n",
            "[nltk_data]    |     /root/nltk_data...\n",
            "[nltk_data]    |   Package spanish_grammars is already up-to-date!\n",
            "[nltk_data]    | Downloading package state_union to /root/nltk_data...\n",
            "[nltk_data]    |   Package state_union is already up-to-date!\n",
            "[nltk_data]    | Downloading package stopwords to /root/nltk_data...\n",
            "[nltk_data]    |   Package stopwords is already up-to-date!\n",
            "[nltk_data]    | Downloading package subjectivity to\n",
            "[nltk_data]    |     /root/nltk_data...\n",
            "[nltk_data]    |   Package subjectivity is already up-to-date!\n",
            "[nltk_data]    | Downloading package swadesh to /root/nltk_data...\n",
            "[nltk_data]    |   Package swadesh is already up-to-date!\n",
            "[nltk_data]    | Downloading package switchboard to /root/nltk_data...\n",
            "[nltk_data]    |   Package switchboard is already up-to-date!\n",
            "[nltk_data]    | Downloading package tagsets to /root/nltk_data...\n",
            "[nltk_data]    |   Package tagsets is already up-to-date!\n",
            "[nltk_data]    | Downloading package timit to /root/nltk_data...\n",
            "[nltk_data]    |   Package timit is already up-to-date!\n",
            "[nltk_data]    | Downloading package toolbox to /root/nltk_data...\n",
            "[nltk_data]    |   Package toolbox is already up-to-date!\n",
            "[nltk_data]    | Downloading package treebank to /root/nltk_data...\n",
            "[nltk_data]    |   Package treebank is already up-to-date!\n",
            "[nltk_data]    | Downloading package twitter_samples to\n",
            "[nltk_data]    |     /root/nltk_data...\n",
            "[nltk_data]    |   Package twitter_samples is already up-to-date!\n",
            "[nltk_data]    | Downloading package udhr to /root/nltk_data...\n",
            "[nltk_data]    |   Package udhr is already up-to-date!\n",
            "[nltk_data]    | Downloading package udhr2 to /root/nltk_data...\n",
            "[nltk_data]    |   Package udhr2 is already up-to-date!\n",
            "[nltk_data]    | Downloading package unicode_samples to\n",
            "[nltk_data]    |     /root/nltk_data...\n",
            "[nltk_data]    |   Package unicode_samples is already up-to-date!\n",
            "[nltk_data]    | Downloading package universal_tagset to\n",
            "[nltk_data]    |     /root/nltk_data...\n",
            "[nltk_data]    |   Package universal_tagset is already up-to-date!\n",
            "[nltk_data]    | Downloading package universal_treebanks_v20 to\n",
            "[nltk_data]    |     /root/nltk_data...\n",
            "[nltk_data]    |   Package universal_treebanks_v20 is already up-to-\n",
            "[nltk_data]    |       date!\n",
            "[nltk_data]    | Downloading package vader_lexicon to\n",
            "[nltk_data]    |     /root/nltk_data...\n",
            "[nltk_data]    |   Package vader_lexicon is already up-to-date!\n",
            "[nltk_data]    | Downloading package verbnet to /root/nltk_data...\n",
            "[nltk_data]    |   Package verbnet is already up-to-date!\n",
            "[nltk_data]    | Downloading package verbnet3 to /root/nltk_data...\n",
            "[nltk_data]    |   Package verbnet3 is already up-to-date!\n",
            "[nltk_data]    | Downloading package webtext to /root/nltk_data...\n",
            "[nltk_data]    |   Package webtext is already up-to-date!\n",
            "[nltk_data]    | Downloading package wmt15_eval to /root/nltk_data...\n",
            "[nltk_data]    |   Package wmt15_eval is already up-to-date!\n",
            "[nltk_data]    | Downloading package word2vec_sample to\n",
            "[nltk_data]    |     /root/nltk_data...\n",
            "[nltk_data]    |   Package word2vec_sample is already up-to-date!\n",
            "[nltk_data]    | Downloading package wordnet to /root/nltk_data...\n",
            "[nltk_data]    |   Package wordnet is already up-to-date!\n",
            "[nltk_data]    | Downloading package wordnet2021 to /root/nltk_data...\n",
            "[nltk_data]    |   Package wordnet2021 is already up-to-date!\n",
            "[nltk_data]    | Downloading package wordnet31 to /root/nltk_data...\n",
            "[nltk_data]    |   Package wordnet31 is already up-to-date!\n",
            "[nltk_data]    | Downloading package wordnet_ic to /root/nltk_data...\n",
            "[nltk_data]    |   Package wordnet_ic is already up-to-date!\n",
            "[nltk_data]    | Downloading package words to /root/nltk_data...\n",
            "[nltk_data]    |   Package words is already up-to-date!\n",
            "[nltk_data]    | Downloading package ycoe to /root/nltk_data...\n",
            "[nltk_data]    |   Package ycoe is already up-to-date!\n",
            "[nltk_data]    | \n",
            "[nltk_data]  Done downloading collection all\n"
          ]
        }
      ],
      "source": [
        "!pip install nltk\n",
        "import nltk\n",
        "nltk.download(\"all\")\n",
        "from nltk import sent_tokenize\n"
      ]
    },
    {
      "cell_type": "code",
      "execution_count": 1018,
      "metadata": {
        "colab": {
          "base_uri": "https://localhost:8080/"
        },
        "id": "I9qMSGpLi-kz",
        "outputId": "ed36b831-1203-4bc0-f884-aeca4338924b"
      },
      "outputs": [
        {
          "output_type": "execute_result",
          "data": {
            "text/plain": [
              "['  A 100% pure oil filling pump']"
            ]
          },
          "metadata": {},
          "execution_count": 1018
        }
      ],
      "source": [
        "sentences = [] # each comment as a doc\n",
        "for i in data[\"Review\"]:\n",
        "    s=sent_tokenize(i)\n",
        "    sentences.append(s)\n",
        "sentences[0] "
      ]
    },
    {
      "cell_type": "code",
      "execution_count": 1018,
      "metadata": {
        "id": "3Te8kroulG4f"
      },
      "outputs": [],
      "source": []
    },
    {
      "cell_type": "code",
      "execution_count": 1019,
      "metadata": {
        "id": "c9Mp-4KDdBxZ"
      },
      "outputs": [],
      "source": [
        "# tokenization\n",
        "from nltk.tokenize import word_tokenize\n",
        "token_list= []\n",
        "for i in sentences: # i is comment level\n",
        "    for j in i:\n",
        "      tokens = word_tokenize(j)\n",
        "      words = [word for word in tokens if word.isalpha()]\n",
        "      words = [word.lower() for word in words]\n",
        "      token_list.append(words)"
      ]
    },
    {
      "cell_type": "code",
      "execution_count": 1020,
      "metadata": {
        "id": "j_scoVG0vZmp"
      },
      "outputs": [],
      "source": [
        "# lemmatization\n",
        "from nltk.stem import WordNetLemmatizer \n",
        "from nltk.corpus import wordnet \n",
        "lemmatizer = WordNetLemmatizer() \n",
        "def pos_tagger(nltk_tag): \n",
        "    if nltk_tag.startswith('J'): \n",
        "        return wordnet.ADJ \n",
        "    elif nltk_tag.startswith('V'): \n",
        "        return wordnet.VERB \n",
        "    elif nltk_tag.startswith('N'): \n",
        "        return wordnet.NOUN \n",
        "    elif nltk_tag.startswith('R'): \n",
        "        return wordnet.ADV \n",
        "    else:           \n",
        "        return None\n",
        "lemma_list = []\n",
        "for i in token_list:\n",
        "  pos_tagged = nltk.pos_tag(i)\n",
        "  wordnet_tagged = list(map(lambda x: (x[0], pos_tagger(x[1])), pos_tagged))\n",
        "  lemma = [] \n",
        "  for word, tag in wordnet_tagged:\n",
        "    if word == \"i\":\n",
        "      continue\n",
        "    if tag is None: \n",
        "      # if there is no available tag, append the token as is \n",
        "      lemma.append(word) \n",
        "    else:         \n",
        "      # else use the tag to lemmatize the token \n",
        "      lemma.append(lemmatizer.lemmatize(word, tag))\n",
        "  lemma_list.append(lemma)"
      ]
    },
    {
      "cell_type": "markdown",
      "metadata": {
        "id": "E4CpUT5WRA2r"
      },
      "source": [
        "**Aspect Extraction**"
      ]
    },
    {
      "cell_type": "code",
      "execution_count": 1021,
      "metadata": {
        "id": "PssSHZdly54I"
      },
      "outputs": [],
      "source": [
        "bi = []\n",
        "for item in lemma_list:\n",
        "  grams = [item[i:i+2] for i in range(len(item)-2+1)]\n",
        "  bigrams = [' '.join(j) for j in grams]\n",
        "  bi.append(bigrams)"
      ]
    },
    {
      "cell_type": "code",
      "execution_count": 1022,
      "metadata": {
        "id": "UuY5eU_hGXgo"
      },
      "outputs": [],
      "source": [
        "bi_v = [bigram for i in bi for bigram in i]\n",
        "uni_v = [unigram for i in lemma_list for unigram in i]"
      ]
    },
    {
      "cell_type": "code",
      "execution_count": 1023,
      "metadata": {
        "id": "NR0yxSGr35yN"
      },
      "outputs": [],
      "source": [
        "counter_bi = Counter(bi_v)"
      ]
    },
    {
      "cell_type": "code",
      "execution_count": 1024,
      "metadata": {
        "id": "BB_HKzL9mdAn"
      },
      "outputs": [],
      "source": [
        "from nltk.corpus import stopwords"
      ]
    },
    {
      "cell_type": "code",
      "execution_count": 1025,
      "metadata": {
        "id": "jO6NdDUrksD1"
      },
      "outputs": [],
      "source": [
        "# filter before computing for less noise\n",
        "for i in list(counter_bi.keys()):\n",
        "  if i.split()[0] in stopwords.words('english'):\n",
        "    if i.split()[1] in stopwords.words('english'):\n",
        "      counter_bi.pop(i)"
      ]
    },
    {
      "cell_type": "code",
      "execution_count": 1026,
      "metadata": {
        "id": "vV9LMmlTn6ZQ"
      },
      "outputs": [],
      "source": [
        "for i in list(counter_bi.keys()):\n",
        "  w,t = nltk.pos_tag(i.split())[0]\n",
        "  w1,t1 = nltk.pos_tag(i.split())[1]\n",
        "  if t[0] != \"N\":\n",
        "    if t1[0] != \"N\":\n",
        "      counter_bi.pop(i)"
      ]
    },
    {
      "cell_type": "code",
      "execution_count": 1027,
      "metadata": {
        "id": "l2Zd2RQbJqOg"
      },
      "outputs": [],
      "source": [
        "import math\n",
        "def pmi_index(bigram):\n",
        "  a, b = bigram.split()\n",
        "  new = []\n",
        "  for i in bi_v:\n",
        "    if i != bigram:\n",
        "      for wor in i.split():\n",
        "        new.append(wor)\n",
        "    else:\n",
        "      new.append(i)\n",
        "  counter_new = Counter(new)\n",
        "  if counter_new[a] == 0 or counter_new[b] == 0:\n",
        "    pmi = \"dependent\"\n",
        "  else:\n",
        "    pmi = math.log(counter_new[bigram]/((counter_new[a]-counter_new[bigram])*(counter_new[b]-counter_new[bigram])/(len(new)-2*counter_new[bigram])))\n",
        "  return pmi"
      ]
    },
    {
      "cell_type": "code",
      "execution_count": 1028,
      "metadata": {
        "id": "m6g6jtXwTPkb"
      },
      "outputs": [],
      "source": [
        "counter_b = counter_bi.most_common(100)"
      ]
    },
    {
      "cell_type": "code",
      "execution_count": 1029,
      "metadata": {
        "id": "2cqUrLjwrDQ6"
      },
      "outputs": [],
      "source": [
        "bi_gram_list = [k for (k,v) in counter_b]"
      ]
    },
    {
      "cell_type": "code",
      "execution_count": 1030,
      "metadata": {
        "id": "WYQX5KAY5Hq7"
      },
      "outputs": [],
      "source": [
        "frequency = [v for (k,v) in counter_b]"
      ]
    },
    {
      "cell_type": "code",
      "execution_count": 1031,
      "metadata": {
        "id": "jdP0ZZ_5ogz1"
      },
      "outputs": [],
      "source": [
        "\n",
        "from cmath import sqrt"
      ]
    },
    {
      "cell_type": "code",
      "execution_count": 1032,
      "metadata": {
        "id": "gEEnW1HhW-81"
      },
      "outputs": [],
      "source": [
        "pmi = [pmi_index(k) for (k,v) in counter_b]"
      ]
    },
    {
      "cell_type": "code",
      "execution_count": 1033,
      "metadata": {
        "id": "G8-eRq9_XRVP"
      },
      "outputs": [],
      "source": [
        "fre_df = pd.DataFrame({\"bigram\":bi_gram_list, \"pmi\":pmi, \"frequency\": frequency})"
      ]
    },
    {
      "cell_type": "code",
      "execution_count": 1034,
      "metadata": {
        "colab": {
          "base_uri": "https://localhost:8080/",
          "height": 1000
        },
        "collapsed": true,
        "id": "y6y1c3GycIpx",
        "outputId": "95f43633-be39-4837-a66d-3d5b55002ba6"
      },
      "outputs": [
        {
          "output_type": "execute_result",
          "data": {
            "text/plain": [
              "                bigram       pmi  frequency\n",
              "57      drinking water  8.817703         50\n",
              "19          indian oil  7.469018         97\n",
              "2             all type  5.721639        220\n",
              "33         credit card  5.315732         70\n",
              "78     digital payment  5.169693         43\n",
              "94              try to  5.045104         35\n",
              "49             kind of  5.014486         59\n",
              "5              type of  4.982338        196\n",
              "58          debit card  4.927829         50\n",
              "64      online payment  4.906751         48\n",
              "75        payment mode  4.810553         44\n",
              "43              lot of  4.807693         63\n",
              "31        air pressure  4.621017         73\n",
              "66        your vehicle  4.431018         47\n",
              "96      payment option  4.391294         34\n",
              "80        accepts card  4.316419         43\n",
              "60               a bit  4.162383         50\n",
              "51               a lot  4.144318         55\n",
              "56            all kind  4.140121         51\n",
              "0          petrol pump  4.098259        545\n",
              "63         gas station  3.867919         48\n",
              "17            not work  3.865977        105\n",
              "34         petrol bunk  3.751257         69\n",
              "97     filling station  3.605322         34\n",
              "28            free air  3.602536         76\n",
              "7             air fill  3.396299        181\n",
              "10        fuel station  3.365012        160\n",
              "24         accept here  3.299957         91\n",
              "1         all facility  3.225692        310\n",
              "84           air check  2.993233         40\n",
              "90             need to  2.949107         37\n",
              "36      payment accept  2.916105         68\n",
              "11            all time  2.893574        154\n",
              "27       petrol diesel  2.640337         80\n",
              "55         card accept  2.626207         52\n",
              "3   facility available  2.567238        208\n",
              "65         accept card  2.521518         48\n",
              "38        card payment  2.507200         67\n",
              "29        good quality  2.313175         74\n",
              "15          good place  2.312114        125\n",
              "61          this place  2.279093         49\n",
              "98         for vehicle  2.230015         34\n",
              "22            place to  2.148498         92\n",
              "14           all staff  2.104181        126\n",
              "68        station with  2.095103         46\n",
              "18          of payment  2.076594        102\n",
              "92        and quantity  2.037562         37\n",
              "40           place for  2.023787         66\n",
              "59        fill station  2.023597         50\n",
              "4             staff be  1.960868        197"
            ],
            "text/html": [
              "\n",
              "  <div id=\"df-1ed2288a-085e-43d4-8681-dbc4913c1e94\">\n",
              "    <div class=\"colab-df-container\">\n",
              "      <div>\n",
              "<style scoped>\n",
              "    .dataframe tbody tr th:only-of-type {\n",
              "        vertical-align: middle;\n",
              "    }\n",
              "\n",
              "    .dataframe tbody tr th {\n",
              "        vertical-align: top;\n",
              "    }\n",
              "\n",
              "    .dataframe thead th {\n",
              "        text-align: right;\n",
              "    }\n",
              "</style>\n",
              "<table border=\"1\" class=\"dataframe\">\n",
              "  <thead>\n",
              "    <tr style=\"text-align: right;\">\n",
              "      <th></th>\n",
              "      <th>bigram</th>\n",
              "      <th>pmi</th>\n",
              "      <th>frequency</th>\n",
              "    </tr>\n",
              "  </thead>\n",
              "  <tbody>\n",
              "    <tr>\n",
              "      <th>57</th>\n",
              "      <td>drinking water</td>\n",
              "      <td>8.817703</td>\n",
              "      <td>50</td>\n",
              "    </tr>\n",
              "    <tr>\n",
              "      <th>19</th>\n",
              "      <td>indian oil</td>\n",
              "      <td>7.469018</td>\n",
              "      <td>97</td>\n",
              "    </tr>\n",
              "    <tr>\n",
              "      <th>2</th>\n",
              "      <td>all type</td>\n",
              "      <td>5.721639</td>\n",
              "      <td>220</td>\n",
              "    </tr>\n",
              "    <tr>\n",
              "      <th>33</th>\n",
              "      <td>credit card</td>\n",
              "      <td>5.315732</td>\n",
              "      <td>70</td>\n",
              "    </tr>\n",
              "    <tr>\n",
              "      <th>78</th>\n",
              "      <td>digital payment</td>\n",
              "      <td>5.169693</td>\n",
              "      <td>43</td>\n",
              "    </tr>\n",
              "    <tr>\n",
              "      <th>94</th>\n",
              "      <td>try to</td>\n",
              "      <td>5.045104</td>\n",
              "      <td>35</td>\n",
              "    </tr>\n",
              "    <tr>\n",
              "      <th>49</th>\n",
              "      <td>kind of</td>\n",
              "      <td>5.014486</td>\n",
              "      <td>59</td>\n",
              "    </tr>\n",
              "    <tr>\n",
              "      <th>5</th>\n",
              "      <td>type of</td>\n",
              "      <td>4.982338</td>\n",
              "      <td>196</td>\n",
              "    </tr>\n",
              "    <tr>\n",
              "      <th>58</th>\n",
              "      <td>debit card</td>\n",
              "      <td>4.927829</td>\n",
              "      <td>50</td>\n",
              "    </tr>\n",
              "    <tr>\n",
              "      <th>64</th>\n",
              "      <td>online payment</td>\n",
              "      <td>4.906751</td>\n",
              "      <td>48</td>\n",
              "    </tr>\n",
              "    <tr>\n",
              "      <th>75</th>\n",
              "      <td>payment mode</td>\n",
              "      <td>4.810553</td>\n",
              "      <td>44</td>\n",
              "    </tr>\n",
              "    <tr>\n",
              "      <th>43</th>\n",
              "      <td>lot of</td>\n",
              "      <td>4.807693</td>\n",
              "      <td>63</td>\n",
              "    </tr>\n",
              "    <tr>\n",
              "      <th>31</th>\n",
              "      <td>air pressure</td>\n",
              "      <td>4.621017</td>\n",
              "      <td>73</td>\n",
              "    </tr>\n",
              "    <tr>\n",
              "      <th>66</th>\n",
              "      <td>your vehicle</td>\n",
              "      <td>4.431018</td>\n",
              "      <td>47</td>\n",
              "    </tr>\n",
              "    <tr>\n",
              "      <th>96</th>\n",
              "      <td>payment option</td>\n",
              "      <td>4.391294</td>\n",
              "      <td>34</td>\n",
              "    </tr>\n",
              "    <tr>\n",
              "      <th>80</th>\n",
              "      <td>accepts card</td>\n",
              "      <td>4.316419</td>\n",
              "      <td>43</td>\n",
              "    </tr>\n",
              "    <tr>\n",
              "      <th>60</th>\n",
              "      <td>a bit</td>\n",
              "      <td>4.162383</td>\n",
              "      <td>50</td>\n",
              "    </tr>\n",
              "    <tr>\n",
              "      <th>51</th>\n",
              "      <td>a lot</td>\n",
              "      <td>4.144318</td>\n",
              "      <td>55</td>\n",
              "    </tr>\n",
              "    <tr>\n",
              "      <th>56</th>\n",
              "      <td>all kind</td>\n",
              "      <td>4.140121</td>\n",
              "      <td>51</td>\n",
              "    </tr>\n",
              "    <tr>\n",
              "      <th>0</th>\n",
              "      <td>petrol pump</td>\n",
              "      <td>4.098259</td>\n",
              "      <td>545</td>\n",
              "    </tr>\n",
              "    <tr>\n",
              "      <th>63</th>\n",
              "      <td>gas station</td>\n",
              "      <td>3.867919</td>\n",
              "      <td>48</td>\n",
              "    </tr>\n",
              "    <tr>\n",
              "      <th>17</th>\n",
              "      <td>not work</td>\n",
              "      <td>3.865977</td>\n",
              "      <td>105</td>\n",
              "    </tr>\n",
              "    <tr>\n",
              "      <th>34</th>\n",
              "      <td>petrol bunk</td>\n",
              "      <td>3.751257</td>\n",
              "      <td>69</td>\n",
              "    </tr>\n",
              "    <tr>\n",
              "      <th>97</th>\n",
              "      <td>filling station</td>\n",
              "      <td>3.605322</td>\n",
              "      <td>34</td>\n",
              "    </tr>\n",
              "    <tr>\n",
              "      <th>28</th>\n",
              "      <td>free air</td>\n",
              "      <td>3.602536</td>\n",
              "      <td>76</td>\n",
              "    </tr>\n",
              "    <tr>\n",
              "      <th>7</th>\n",
              "      <td>air fill</td>\n",
              "      <td>3.396299</td>\n",
              "      <td>181</td>\n",
              "    </tr>\n",
              "    <tr>\n",
              "      <th>10</th>\n",
              "      <td>fuel station</td>\n",
              "      <td>3.365012</td>\n",
              "      <td>160</td>\n",
              "    </tr>\n",
              "    <tr>\n",
              "      <th>24</th>\n",
              "      <td>accept here</td>\n",
              "      <td>3.299957</td>\n",
              "      <td>91</td>\n",
              "    </tr>\n",
              "    <tr>\n",
              "      <th>1</th>\n",
              "      <td>all facility</td>\n",
              "      <td>3.225692</td>\n",
              "      <td>310</td>\n",
              "    </tr>\n",
              "    <tr>\n",
              "      <th>84</th>\n",
              "      <td>air check</td>\n",
              "      <td>2.993233</td>\n",
              "      <td>40</td>\n",
              "    </tr>\n",
              "    <tr>\n",
              "      <th>90</th>\n",
              "      <td>need to</td>\n",
              "      <td>2.949107</td>\n",
              "      <td>37</td>\n",
              "    </tr>\n",
              "    <tr>\n",
              "      <th>36</th>\n",
              "      <td>payment accept</td>\n",
              "      <td>2.916105</td>\n",
              "      <td>68</td>\n",
              "    </tr>\n",
              "    <tr>\n",
              "      <th>11</th>\n",
              "      <td>all time</td>\n",
              "      <td>2.893574</td>\n",
              "      <td>154</td>\n",
              "    </tr>\n",
              "    <tr>\n",
              "      <th>27</th>\n",
              "      <td>petrol diesel</td>\n",
              "      <td>2.640337</td>\n",
              "      <td>80</td>\n",
              "    </tr>\n",
              "    <tr>\n",
              "      <th>55</th>\n",
              "      <td>card accept</td>\n",
              "      <td>2.626207</td>\n",
              "      <td>52</td>\n",
              "    </tr>\n",
              "    <tr>\n",
              "      <th>3</th>\n",
              "      <td>facility available</td>\n",
              "      <td>2.567238</td>\n",
              "      <td>208</td>\n",
              "    </tr>\n",
              "    <tr>\n",
              "      <th>65</th>\n",
              "      <td>accept card</td>\n",
              "      <td>2.521518</td>\n",
              "      <td>48</td>\n",
              "    </tr>\n",
              "    <tr>\n",
              "      <th>38</th>\n",
              "      <td>card payment</td>\n",
              "      <td>2.507200</td>\n",
              "      <td>67</td>\n",
              "    </tr>\n",
              "    <tr>\n",
              "      <th>29</th>\n",
              "      <td>good quality</td>\n",
              "      <td>2.313175</td>\n",
              "      <td>74</td>\n",
              "    </tr>\n",
              "    <tr>\n",
              "      <th>15</th>\n",
              "      <td>good place</td>\n",
              "      <td>2.312114</td>\n",
              "      <td>125</td>\n",
              "    </tr>\n",
              "    <tr>\n",
              "      <th>61</th>\n",
              "      <td>this place</td>\n",
              "      <td>2.279093</td>\n",
              "      <td>49</td>\n",
              "    </tr>\n",
              "    <tr>\n",
              "      <th>98</th>\n",
              "      <td>for vehicle</td>\n",
              "      <td>2.230015</td>\n",
              "      <td>34</td>\n",
              "    </tr>\n",
              "    <tr>\n",
              "      <th>22</th>\n",
              "      <td>place to</td>\n",
              "      <td>2.148498</td>\n",
              "      <td>92</td>\n",
              "    </tr>\n",
              "    <tr>\n",
              "      <th>14</th>\n",
              "      <td>all staff</td>\n",
              "      <td>2.104181</td>\n",
              "      <td>126</td>\n",
              "    </tr>\n",
              "    <tr>\n",
              "      <th>68</th>\n",
              "      <td>station with</td>\n",
              "      <td>2.095103</td>\n",
              "      <td>46</td>\n",
              "    </tr>\n",
              "    <tr>\n",
              "      <th>18</th>\n",
              "      <td>of payment</td>\n",
              "      <td>2.076594</td>\n",
              "      <td>102</td>\n",
              "    </tr>\n",
              "    <tr>\n",
              "      <th>92</th>\n",
              "      <td>and quantity</td>\n",
              "      <td>2.037562</td>\n",
              "      <td>37</td>\n",
              "    </tr>\n",
              "    <tr>\n",
              "      <th>40</th>\n",
              "      <td>place for</td>\n",
              "      <td>2.023787</td>\n",
              "      <td>66</td>\n",
              "    </tr>\n",
              "    <tr>\n",
              "      <th>59</th>\n",
              "      <td>fill station</td>\n",
              "      <td>2.023597</td>\n",
              "      <td>50</td>\n",
              "    </tr>\n",
              "    <tr>\n",
              "      <th>4</th>\n",
              "      <td>staff be</td>\n",
              "      <td>1.960868</td>\n",
              "      <td>197</td>\n",
              "    </tr>\n",
              "  </tbody>\n",
              "</table>\n",
              "</div>\n",
              "      <button class=\"colab-df-convert\" onclick=\"convertToInteractive('df-1ed2288a-085e-43d4-8681-dbc4913c1e94')\"\n",
              "              title=\"Convert this dataframe to an interactive table.\"\n",
              "              style=\"display:none;\">\n",
              "        \n",
              "  <svg xmlns=\"http://www.w3.org/2000/svg\" height=\"24px\"viewBox=\"0 0 24 24\"\n",
              "       width=\"24px\">\n",
              "    <path d=\"M0 0h24v24H0V0z\" fill=\"none\"/>\n",
              "    <path d=\"M18.56 5.44l.94 2.06.94-2.06 2.06-.94-2.06-.94-.94-2.06-.94 2.06-2.06.94zm-11 1L8.5 8.5l.94-2.06 2.06-.94-2.06-.94L8.5 2.5l-.94 2.06-2.06.94zm10 10l.94 2.06.94-2.06 2.06-.94-2.06-.94-.94-2.06-.94 2.06-2.06.94z\"/><path d=\"M17.41 7.96l-1.37-1.37c-.4-.4-.92-.59-1.43-.59-.52 0-1.04.2-1.43.59L10.3 9.45l-7.72 7.72c-.78.78-.78 2.05 0 2.83L4 21.41c.39.39.9.59 1.41.59.51 0 1.02-.2 1.41-.59l7.78-7.78 2.81-2.81c.8-.78.8-2.07 0-2.86zM5.41 20L4 18.59l7.72-7.72 1.47 1.35L5.41 20z\"/>\n",
              "  </svg>\n",
              "      </button>\n",
              "      \n",
              "  <style>\n",
              "    .colab-df-container {\n",
              "      display:flex;\n",
              "      flex-wrap:wrap;\n",
              "      gap: 12px;\n",
              "    }\n",
              "\n",
              "    .colab-df-convert {\n",
              "      background-color: #E8F0FE;\n",
              "      border: none;\n",
              "      border-radius: 50%;\n",
              "      cursor: pointer;\n",
              "      display: none;\n",
              "      fill: #1967D2;\n",
              "      height: 32px;\n",
              "      padding: 0 0 0 0;\n",
              "      width: 32px;\n",
              "    }\n",
              "\n",
              "    .colab-df-convert:hover {\n",
              "      background-color: #E2EBFA;\n",
              "      box-shadow: 0px 1px 2px rgba(60, 64, 67, 0.3), 0px 1px 3px 1px rgba(60, 64, 67, 0.15);\n",
              "      fill: #174EA6;\n",
              "    }\n",
              "\n",
              "    [theme=dark] .colab-df-convert {\n",
              "      background-color: #3B4455;\n",
              "      fill: #D2E3FC;\n",
              "    }\n",
              "\n",
              "    [theme=dark] .colab-df-convert:hover {\n",
              "      background-color: #434B5C;\n",
              "      box-shadow: 0px 1px 3px 1px rgba(0, 0, 0, 0.15);\n",
              "      filter: drop-shadow(0px 1px 2px rgba(0, 0, 0, 0.3));\n",
              "      fill: #FFFFFF;\n",
              "    }\n",
              "  </style>\n",
              "\n",
              "      <script>\n",
              "        const buttonEl =\n",
              "          document.querySelector('#df-1ed2288a-085e-43d4-8681-dbc4913c1e94 button.colab-df-convert');\n",
              "        buttonEl.style.display =\n",
              "          google.colab.kernel.accessAllowed ? 'block' : 'none';\n",
              "\n",
              "        async function convertToInteractive(key) {\n",
              "          const element = document.querySelector('#df-1ed2288a-085e-43d4-8681-dbc4913c1e94');\n",
              "          const dataTable =\n",
              "            await google.colab.kernel.invokeFunction('convertToInteractive',\n",
              "                                                     [key], {});\n",
              "          if (!dataTable) return;\n",
              "\n",
              "          const docLinkHtml = 'Like what you see? Visit the ' +\n",
              "            '<a target=\"_blank\" href=https://colab.research.google.com/notebooks/data_table.ipynb>data table notebook</a>'\n",
              "            + ' to learn more about interactive tables.';\n",
              "          element.innerHTML = '';\n",
              "          dataTable['output_type'] = 'display_data';\n",
              "          await google.colab.output.renderOutput(dataTable, element);\n",
              "          const docLink = document.createElement('div');\n",
              "          docLink.innerHTML = docLinkHtml;\n",
              "          element.appendChild(docLink);\n",
              "        }\n",
              "      </script>\n",
              "    </div>\n",
              "  </div>\n",
              "  "
            ]
          },
          "metadata": {},
          "execution_count": 1034
        }
      ],
      "source": [
        "fre_most = fre_df.sort_values(by=\"pmi\", ascending=False).head(50)\n",
        "fre_most"
      ]
    },
    {
      "cell_type": "code",
      "execution_count": 1035,
      "metadata": {
        "id": "H0_CFy1ovN5S"
      },
      "outputs": [],
      "source": [
        "select = fre_most.drop([60,51,0,43])\n",
        "select_bi = select[\"bigram\"] # bigrams selected"
      ]
    },
    {
      "cell_type": "code",
      "execution_count": 1036,
      "metadata": {
        "colab": {
          "base_uri": "https://localhost:8080/"
        },
        "id": "aeK3zpqKWMb-",
        "outputId": "f1122669-2025-49dc-a9fb-285e85aa39ac"
      },
      "outputs": [
        {
          "output_type": "execute_result",
          "data": {
            "text/plain": [
              "46"
            ]
          },
          "metadata": {},
          "execution_count": 1036
        }
      ],
      "source": [
        "len(select_bi)"
      ]
    },
    {
      "cell_type": "code",
      "execution_count": 1037,
      "metadata": {
        "id": "8qs0F1k6qimR"
      },
      "outputs": [],
      "source": [
        "from collections import defaultdict  \n",
        "bi_dict = defaultdict(list)\n",
        "for bi in select_bi:\n",
        "  f,s = bi.split()\n",
        "  bi_dict[f].append(s)"
      ]
    },
    {
      "cell_type": "code",
      "execution_count": 1038,
      "metadata": {
        "id": "yr2X3xY0o4W8"
      },
      "outputs": [],
      "source": [
        "sent_c = []\n",
        "for sent in lemma_list: \n",
        "  if len(sent) > 1:\n",
        "    sent_list = []\n",
        "    for i in range(len(sent)-1):\n",
        "      if sent[i] in list(bi_dict.keys()):\n",
        "        if sent[i+1] in bi_dict[sent[i]]:\n",
        "          bi = sent[i] + \" \" + sent[i+1]\n",
        "          sent_list.append(bi)\n",
        "        else:\n",
        "          if sent[i] not in stopwords.words('english'):\n",
        "            sent_list.append(sent[i])  \n",
        "      else:\n",
        "        if sent[i] not in stopwords.words('english'):\n",
        "          sent_list.append(sent[i]) \n",
        "    sent_c.append(sent_list)\n",
        "  elif len(sent) == 1:\n",
        "    if sent[0] not in stopwords.words('english'):\n",
        "      sent_c.append(sent)\n",
        "    else:\n",
        "      sent_c.append([])\n",
        "  else:\n",
        "    sent_c.append([])"
      ]
    },
    {
      "cell_type": "code",
      "execution_count": 1039,
      "metadata": {
        "id": "8Fa1iWxxBLKR"
      },
      "outputs": [],
      "source": [
        "sent1 = [] # comment level\n",
        "for c in sentences:\n",
        "  ll = []\n",
        "  for s in c:\n",
        "    tokens = word_tokenize(s)\n",
        "    words = [word for word in tokens if word.isalpha()]\n",
        "    words = [word.lower() for word in words]\n",
        "    words = [word for word in words if word != 'i']\n",
        "    ll.append(words)\n",
        "  sent1.append(ll)"
      ]
    },
    {
      "cell_type": "code",
      "execution_count": 1040,
      "metadata": {
        "id": "qUIBCptqBLKZ"
      },
      "outputs": [],
      "source": [
        "num_com = len(sentences)"
      ]
    },
    {
      "cell_type": "code",
      "execution_count": 1041,
      "metadata": {
        "id": "H4XPaETwBLKa"
      },
      "outputs": [],
      "source": [
        "com_sent = [] # basic list is sentence\n",
        "count = 0\n",
        "for i in range(num_com):\n",
        "  end = count + len(sent1[i])\n",
        "  cc = sent_c[count:end]\n",
        "  com_sent.append(cc)\n",
        "  count = end"
      ]
    },
    {
      "cell_type": "code",
      "execution_count": 1042,
      "metadata": {
        "id": "G9Dal12I_Awx"
      },
      "outputs": [],
      "source": [
        "comment = [] # basic list is comment\n",
        "for com in com_sent:\n",
        "  c = []\n",
        "  for sent in com:\n",
        "    for wor in sent:\n",
        "      c.append(wor)\n",
        "  comment.append(c)"
      ]
    },
    {
      "cell_type": "code",
      "execution_count": null,
      "metadata": {
        "id": "9K60QB34BLKb"
      },
      "outputs": [],
      "source": [
        "noun = []\n",
        "for com in comment:\n",
        "  c = []\n",
        "  for wor in com:\n",
        "    if wor in select_bi:\n",
        "      c.append(wor)\n",
        "    else:\n",
        "      w, t = nltk.pos_tag([wor])[0]\n",
        "      if t[0] == \"N\":\n",
        "        c.append(wor)\n",
        "  noun.append(c)"
      ]
    },
    {
      "cell_type": "code",
      "execution_count": null,
      "metadata": {
        "id": "T7PUWW_9BLKf"
      },
      "outputs": [],
      "source": [
        "words = [wor for c in noun for wor in c]"
      ]
    },
    {
      "cell_type": "code",
      "execution_count": null,
      "metadata": {
        "id": "GtFKdhqZBLKg"
      },
      "outputs": [],
      "source": [
        "v_n = [n for n,c in Counter(words).most_common(500)]"
      ]
    },
    {
      "cell_type": "code",
      "execution_count": null,
      "metadata": {
        "id": "vLtHZekXBLKh"
      },
      "outputs": [],
      "source": [
        "!pip install sklearn\n",
        "from sklearn.feature_extraction.text import TfidfVectorizer\n",
        "df = pd.DataFrame({\"text\":comment})\n",
        "df['text'] = df['text'].apply(lambda x: ' '.join([word for word in x]))\n",
        "vectorizer = TfidfVectorizer(vocabulary=v_n, ngram_range=(1,2))\n",
        "TF_IDF = vectorizer.fit_transform(df['text'].values)\n",
        "TF_IDF_array = TF_IDF.toarray()"
      ]
    },
    {
      "cell_type": "code",
      "execution_count": null,
      "metadata": {
        "id": "w02t5ORmBLKm"
      },
      "outputs": [],
      "source": [
        "import numpy as np\n",
        "sum = np.sum(TF_IDF_array,axis=0).tolist()"
      ]
    },
    {
      "cell_type": "code",
      "execution_count": null,
      "metadata": {
        "id": "8f8FgNt5BLKn"
      },
      "outputs": [],
      "source": [
        "rank = pd.DataFrame({\"feature\":vectorizer.get_feature_names(),\"index\": sum}).sort_values(\"index\", ascending=False)\n",
        "rank.head(20)"
      ]
    },
    {
      "cell_type": "code",
      "execution_count": null,
      "metadata": {
        "id": "OKexH9TmBLKo"
      },
      "outputs": [],
      "source": [
        "aspects = rank.head(20)[\"feature\"]"
      ]
    },
    {
      "cell_type": "code",
      "execution_count": null,
      "metadata": {
        "id": "2q5Gt6vBJnaG"
      },
      "outputs": [],
      "source": [
        "aspects"
      ]
    },
    {
      "cell_type": "markdown",
      "metadata": {
        "id": "zO8g_w3DtuwH"
      },
      "source": [
        "**Aspect Categorization**"
      ]
    },
    {
      "cell_type": "code",
      "execution_count": null,
      "metadata": {
        "id": "ubv6rb5IlxvZ"
      },
      "outputs": [],
      "source": [
        "!pip install gensim\n",
        "import gensim"
      ]
    },
    {
      "cell_type": "code",
      "execution_count": null,
      "metadata": {
        "id": "eFX2i410dB5x"
      },
      "outputs": [],
      "source": [
        "from gensim.models import Word2Vec"
      ]
    },
    {
      "cell_type": "code",
      "execution_count": null,
      "metadata": {
        "id": "zIFGMLbCdCAR"
      },
      "outputs": [],
      "source": [
        "www = [word for item in sent_c for word in item]"
      ]
    },
    {
      "cell_type": "code",
      "execution_count": null,
      "metadata": {
        "id": "GYhdfLvoz6qx"
      },
      "outputs": [],
      "source": [
        "len(Counter(www).keys())"
      ]
    },
    {
      "cell_type": "code",
      "execution_count": null,
      "metadata": {
        "id": "3Ff4CI5P4GFU"
      },
      "outputs": [],
      "source": [
        "def skip(sent, n=3, s=2):\n",
        "  k_grams = []\n",
        "  for i in range(len(sent)):\n",
        "    for z in range(s):\n",
        "      seq = [sent[i]] + sent[i+z+1:i+z+n]\n",
        "      if len(seq) == n and seq not in k_grams:\n",
        "        k_grams.append(list(seq))\n",
        "  return k_grams  "
      ]
    },
    {
      "cell_type": "code",
      "execution_count": null,
      "metadata": {
        "id": "yDpjtQgA52Ff"
      },
      "outputs": [],
      "source": [
        "sent_c1 = [sent for sent in sent_c if sent != []]"
      ]
    },
    {
      "cell_type": "code",
      "execution_count": null,
      "metadata": {
        "id": "btn1-q2Yz6wP"
      },
      "outputs": [],
      "source": [
        "sequences = []\n",
        "for i in sent_c1:\n",
        "  l = skip(i)\n",
        "  sequences.append(l)"
      ]
    },
    {
      "cell_type": "code",
      "execution_count": null,
      "metadata": {
        "id": "yFZmZJC25Z23"
      },
      "outputs": [],
      "source": [
        "sequences = [sent for sent in sequences if sent != []]\n",
        "seq = [s for sent in sequences for s in sent]"
      ]
    },
    {
      "cell_type": "code",
      "execution_count": null,
      "metadata": {
        "id": "Hl82yRzg6Azx"
      },
      "outputs": [],
      "source": [
        "seq[:10]"
      ]
    },
    {
      "cell_type": "code",
      "execution_count": null,
      "metadata": {
        "id": "spi8aEbQ-1y1"
      },
      "outputs": [],
      "source": [
        "model = Word2Vec(seq, min_count=50)"
      ]
    },
    {
      "cell_type": "code",
      "execution_count": null,
      "metadata": {
        "id": "ddcv_yd7z66l"
      },
      "outputs": [],
      "source": [
        "word = 'staff'\n",
        "model.wv.most_similar(positive=word)"
      ]
    },
    {
      "cell_type": "code",
      "execution_count": null,
      "metadata": {
        "id": "JKa3F2T9wmMk"
      },
      "outputs": [],
      "source": [
        "aspect_c = defaultdict(list)\n",
        "for i in aspects:\n",
        "  similar = model.wv.most_similar(positive=i)\n",
        "  for w, s in similar:\n",
        "    aspect_c[i].append(w)"
      ]
    },
    {
      "cell_type": "code",
      "execution_count": null,
      "metadata": {
        "id": "mph58BjW_MAQ"
      },
      "outputs": [],
      "source": [
        "aspect_c.keys()"
      ]
    },
    {
      "cell_type": "code",
      "execution_count": null,
      "metadata": {
        "id": "YvBxJ11FJSTm"
      },
      "outputs": [],
      "source": [
        "d = ['facility', 'air', 'petrol', 'service', 'pump']\n",
        "for i in d:\n",
        "  aspect_c.pop(i)\n",
        "category = dict(aspect_c)"
      ]
    },
    {
      "cell_type": "code",
      "execution_count": null,
      "metadata": {
        "id": "oeg6Pj2kJSTo"
      },
      "outputs": [],
      "source": [
        "for (a, s) in category.items():\n",
        "  for wor in s:\n",
        "    w,t = nltk.pos_tag([wor])[0]\n",
        "    if t[0] != 'N':\n",
        "      category[a].remove(wor)"
      ]
    },
    {
      "cell_type": "code",
      "execution_count": null,
      "metadata": {
        "id": "tHUlpaYsMvXs"
      },
      "outputs": [],
      "source": [
        "category"
      ]
    },
    {
      "cell_type": "code",
      "execution_count": null,
      "metadata": {
        "id": "8SGN7x8TPvJy"
      },
      "outputs": [],
      "source": [
        "category ={'accept': ['payment',\n",
        "  'upi',\n",
        "  'payment accept',\n",
        "  'card',\n",
        "  'cash',\n",
        "  'card accept'],\n",
        " 'all facility': ['facility available',\n",
        "  'facility',\n",
        "  'toilet',\n",
        "  'include',\n",
        "  'washroom',\n",
        "  'water',\n",
        "  'drinking water',\n",
        "  'clean',\n",
        "  'drink'],\n",
        " 'card': ['part',\n",
        "  'cash',\n",
        "  'debit card',\n",
        "  'credit card',\n",
        "  'accept',\n",
        "  'upi',\n",
        "  'payment',\n",
        "  'accepts',\n",
        "  'wallet'],\n",
        " 'diesel': ['all time',\n",
        "  'pure',\n",
        "  'petrol diesel',\n",
        "  'petrol',\n",
        "  'sell',\n",
        "  'accurate',\n",
        "  'gas',\n",
        "  'premium'],\n",
        " 'fill': ['tank', 'put', 'person', 'wait', 'bike', 'air fill', 'try to', 'u'],\n",
        " 'fuel': ['product',\n",
        "  'petroleum',\n",
        "  'pure',\n",
        "  'supply',\n",
        "  'accurate',\n",
        "  'sell',\n",
        "  'measurement',\n",
        "  'suggest',\n",
        "  'issue'],\n",
        " 'oil': ['corporation',\n",
        "  'engine',\n",
        "  'petroleum',\n",
        "  'outlet',\n",
        "  'city',\n",
        "  'use',\n",
        "  'change',\n",
        "  'indian oil',\n",
        "  'reward'],\n",
        " 'payment': ['accept',\n",
        "  'payment accept',\n",
        "  'upi',\n",
        "  'part',\n",
        "  'accepts',\n",
        "  'mode',\n",
        "  'cash',\n",
        "  'card accept',\n",
        "  'wallet'],\n",
        " 'place': ['visit', 'this place', 'location', 'near', 'main', 'area'],\n",
        " 'quality': ['quantity',\n",
        "  'and quantity',\n",
        "  'good quality',\n",
        "  'accurate',\n",
        "  'pure',\n",
        "  'petrol',\n",
        "  'product',\n",
        "  'fuel',\n",
        "  'diesel'],\n",
        " 'staff': ['staff be',\n",
        "  'all staff',\n",
        "  'behave',\n",
        "  'area',\n",
        "  'behaviour',\n",
        "  'customer',\n",
        "  'location'],\n",
        " 'station': ['pump',\n",
        "  'road',\n",
        "  'place',\n",
        "  'good',\n",
        "  'this place',\n",
        "  'petrol',\n",
        "  'location'],\n",
        " 'time': ['go', 'queue', 'location', 'all time', 'crowd', 'lot', 'visit'],\n",
        " 'type': ['method',\n",
        "  'digital payment',\n",
        "  'payment mode',\n",
        "  'online payment',\n",
        "  'payment option',\n",
        "  'mobile',\n",
        "  'option',\n",
        "  'transaction',\n",
        "  'card payment'],\n",
        " 'work': ['machine',\n",
        "  'person',\n",
        "  'guy',\n",
        "  'puncture',\n",
        "  'tyre',\n",
        "  'air fill',\n",
        "  'put',\n",
        "  'fill']}"
      ]
    },
    {
      "cell_type": "code",
      "execution_count": null,
      "metadata": {
        "id": "qbT6NasyQM47"
      },
      "outputs": [],
      "source": [
        "for k in category.keys():\n",
        "  category[k].append(k)"
      ]
    },
    {
      "cell_type": "code",
      "execution_count": null,
      "metadata": {
        "id": "4dGyG6jyZAOr"
      },
      "outputs": [],
      "source": [
        "c_v = [wor for k,v in category.items() for wor in v]"
      ]
    },
    {
      "cell_type": "code",
      "execution_count": null,
      "metadata": {
        "id": "AxVXRiK6VivS"
      },
      "outputs": [],
      "source": [
        "cc = []\n",
        "for com in com_sent:\n",
        "  ccc = []\n",
        "  for sent in com:\n",
        "    ss = []\n",
        "    for wor in sent:\n",
        "      if wor not in c_v:\n",
        "        ss.append(wor)\n",
        "      else:\n",
        "        for k in category.keys():\n",
        "          if wor in category[k]:\n",
        "            ss.append(k)\n",
        "    ccc.append(ss)\n",
        "  cc.append(ccc)"
      ]
    },
    {
      "cell_type": "code",
      "execution_count": null,
      "metadata": {
        "id": "iT-TZbmKeFXl"
      },
      "outputs": [],
      "source": [
        "opinion_d = []\n",
        "for com in cc:\n",
        "  com_d = defaultdict(list)\n",
        "  for s in com:\n",
        "    for k in category.keys():\n",
        "      if any(w in s for w in category[k]) is True:\n",
        "        com_d[k].append(s)\n",
        "  opinion_d.append(dict(com_d))"
      ]
    },
    {
      "cell_type": "code",
      "execution_count": null,
      "metadata": {
        "id": "uhY0Pklap4QN"
      },
      "outputs": [],
      "source": [
        "opinion_d"
      ]
    },
    {
      "cell_type": "code",
      "execution_count": null,
      "metadata": {
        "id": "aQbLKyEKhDh-"
      },
      "outputs": [],
      "source": [
        "opinion = pd.DataFrame({\"opinion sentences\": opinion_d, \"recommendation\": data[\"Review\"] , \"editor selection\": data[\"Rating\"]})"
      ]
    },
    {
      "cell_type": "code",
      "execution_count": null,
      "metadata": {
        "id": "0I0Nr5falTH5"
      },
      "outputs": [],
      "source": [
        "opinion.drop(opinion[opinion['opinion sentences'] == {}].index, inplace = True)"
      ]
    },
    {
      "cell_type": "code",
      "execution_count": null,
      "metadata": {
        "id": "vPdHGU59qqsj"
      },
      "outputs": [],
      "source": [
        "opinion"
      ]
    },
    {
      "cell_type": "markdown",
      "metadata": {
        "id": "sLpioqZOEDg4"
      },
      "source": [
        "**Sentiment Orientation**"
      ]
    },
    {
      "cell_type": "code",
      "execution_count": null,
      "metadata": {
        "id": "DvOaYhRG5Z4o"
      },
      "outputs": [],
      "source": [
        "def split_sentence(o_p, k):\n",
        "  if k in o_p.keys():\n",
        "    list_s = o_p[k]\n",
        "  else:\n",
        "    list_s = []\n",
        "  return list_s"
      ]
    },
    {
      "cell_type": "code",
      "execution_count": null,
      "metadata": {
        "id": "cLXVUDSK66HO"
      },
      "outputs": [],
      "source": [
        "for k in category.keys():\n",
        "  m = []\n",
        "  for i in opinion['opinion sentences']:\n",
        "    x = split_sentence(i, k)\n",
        "    m.append(x)\n",
        "  opinion[k] = m"
      ]
    },
    {
      "cell_type": "code",
      "execution_count": null,
      "metadata": {
        "id": "HLs_p7ouDtGS"
      },
      "outputs": [],
      "source": [
        "# staff\n",
        "staff = pd.DataFrame({\"staff\": opinion['staff']})\n",
        "staff = staff[staff['staff'].apply(lambda x: len(x)) > 0]\n",
        "staff_index = list(staff.index)"
      ]
    },
    {
      "cell_type": "code",
      "execution_count": null,
      "metadata": {
        "id": "HJFBXqwHAJru"
      },
      "outputs": [],
      "source": [
        "def word_list(l):\n",
        "  ll = []\n",
        "  for i in list(l):\n",
        "    w = []\n",
        "    for s in i:\n",
        "      for word in s:\n",
        "        w.append(word)\n",
        "    ll.append(w)\n",
        "  return ll"
      ]
    },
    {
      "cell_type": "code",
      "execution_count": null,
      "metadata": {
        "id": "NSIJJb5ddc0a"
      },
      "outputs": [],
      "source": [
        "def get_v(list_p):\n",
        "  v = [w for s in list_p for w in s]\n",
        "  feature = [k for k, v in Counter(v).most_common() if v > 5]\n",
        "  return feature"
      ]
    },
    {
      "cell_type": "code",
      "execution_count": null,
      "metadata": {
        "id": "dVWzoMQX3mXX"
      },
      "outputs": [],
      "source": [
        "staff_list = word_list(staff[\"staff\"])\n",
        "feature1 = get_v(staff_list)\n",
        "staff_list = pd.DataFrame({\"staff\":staff_list})\n",
        "staff_list['staff'] = staff_list['staff'].apply(lambda x: ' '.join([word for word in x]))"
      ]
    },
    {
      "cell_type": "code",
      "execution_count": null,
      "metadata": {
        "id": "zJsEw-y0cSNQ"
      },
      "outputs": [],
      "source": [
        "vectorizer = TfidfVectorizer(vocabulary=feature1, ngram_range=(1,2))\n",
        "TF_IDF1 = vectorizer.fit_transform(staff_list['staff'].values)\n",
        "TF_IDF_array1 = TF_IDF1.toarray()"
      ]
    },
    {
      "cell_type": "code",
      "execution_count": null,
      "metadata": {
        "id": "sgSYkmN03Ts1"
      },
      "outputs": [],
      "source": [
        "from sklearn.cluster import KMeans\n",
        "kmeans1 = KMeans(n_clusters=2, random_state=0).fit(TF_IDF1)"
      ]
    },
    {
      "cell_type": "code",
      "execution_count": null,
      "metadata": {
        "id": "_kqrWFf1fPIE"
      },
      "outputs": [],
      "source": [
        "from sklearn.metrics import pairwise_distances_argmin_min\n",
        "closest1, _ = pairwise_distances_argmin_min(kmeans1.cluster_centers_, TF_IDF1)"
      ]
    },
    {
      "cell_type": "code",
      "execution_count": null,
      "metadata": {
        "id": "9SdLrnzb42yO"
      },
      "outputs": [],
      "source": [
        "sentences[staff_index[closest1[0]]]  # positive"
      ]
    },
    {
      "cell_type": "code",
      "execution_count": null,
      "metadata": {
        "id": "0nqdUdjx6bA-"
      },
      "outputs": [],
      "source": [
        "sentences[staff_index[closest1[1]]]  # negative"
      ]
    },
    {
      "cell_type": "code",
      "execution_count": null,
      "metadata": {
        "id": "HHl0HjE97_n6"
      },
      "outputs": [],
      "source": [
        "label1 = kmeans1.labels_"
      ]
    },
    {
      "cell_type": "code",
      "execution_count": null,
      "metadata": {
        "collapsed": true,
        "id": "WjLx1c-ECMs0"
      },
      "outputs": [],
      "source": [
        "opinion[\"senti1\"] = np.zeros(len(opinion))\n",
        "for i in range(len(label1)):\n",
        "  if label1[i] == 0:\n",
        "    opinion[\"senti1\"][staff_index[i]] = -1\n",
        "  if label1[i] == 1:\n",
        "    opinion[\"senti1\"][staff_index[i]] = 1"
      ]
    },
    {
      "cell_type": "code",
      "execution_count": null,
      "metadata": {
        "id": "-4d7yz9681xH"
      },
      "outputs": [],
      "source": [
        "# work\n",
        "work = pd.DataFrame({\"work\": opinion['work']})\n",
        "work = work[work['work'].apply(lambda x: len(x)) > 0]\n",
        "work_index = list(work.index)"
      ]
    },
    {
      "cell_type": "code",
      "execution_count": null,
      "metadata": {
        "id": "sp4U9JgO-Cul"
      },
      "outputs": [],
      "source": [
        "work_list = word_list(work[\"work\"])\n",
        "feature2 = get_v(work_list)\n",
        "work_list = pd.DataFrame({\"work\":work_list})\n",
        "work_list['work'] = work_list['work'].apply(lambda x: ' '.join([word for word in x]))"
      ]
    },
    {
      "cell_type": "code",
      "execution_count": null,
      "metadata": {
        "id": "BJKVUP50_Qsi"
      },
      "outputs": [],
      "source": [
        "vectorizer2 = TfidfVectorizer(vocabulary=feature2, ngram_range=(1,2))\n",
        "TF_IDF2 = vectorizer2.fit_transform(work_list['work'].values)\n",
        "kmeans2 = KMeans(n_clusters=2, random_state=0).fit(TF_IDF2)\n",
        "closest2, _ = pairwise_distances_argmin_min(kmeans2.cluster_centers_, TF_IDF2)"
      ]
    },
    {
      "cell_type": "code",
      "execution_count": null,
      "metadata": {
        "id": "gcZZhFPi_39a"
      },
      "outputs": [],
      "source": [
        "sentences[work_index[closest2[0]]] # positive"
      ]
    },
    {
      "cell_type": "code",
      "execution_count": null,
      "metadata": {
        "id": "gewfuq9j_6Ur"
      },
      "outputs": [],
      "source": [
        "sentences[work_index[closest2[1]]] # negative"
      ]
    },
    {
      "cell_type": "code",
      "execution_count": null,
      "metadata": {
        "id": "7AY40eJ3BzNq"
      },
      "outputs": [],
      "source": [
        "label2 = kmeans2.labels_\n",
        "opinion[\"senti2\"] = np.zeros(len(opinion))\n",
        "for i in range(len(label2)):\n",
        "  if label2[i] == 0:\n",
        "    opinion[\"senti2\"][work_index[i]] = -1\n",
        "  if label2[i] == 1:\n",
        "    opinion[\"senti2\"][work_index[i]] = 1"
      ]
    },
    {
      "cell_type": "code",
      "execution_count": null,
      "metadata": {
        "id": "cj8zOF9dRrSB"
      },
      "outputs": [],
      "source": [
        "# station\n",
        "station = pd.DataFrame({\"station\": opinion['station']})\n",
        "station = station[station['station'].apply(lambda x: len(x)) > 0]\n",
        "station_index = list(station.index)"
      ]
    },
    {
      "cell_type": "code",
      "execution_count": null,
      "metadata": {
        "id": "C-6h2DgtRrx4"
      },
      "outputs": [],
      "source": [
        "station_list = word_list(station[\"station\"])\n",
        "feature3 = get_v(station_list)\n",
        "station_list = pd.DataFrame({\"station\":station_list})\n",
        "station_list['station'] = station_list['station'].apply(lambda x: ' '.join([word for word in x]))"
      ]
    },
    {
      "cell_type": "code",
      "execution_count": null,
      "metadata": {
        "id": "6HrQEPt8Rr65"
      },
      "outputs": [],
      "source": [
        "vectorizer3 = TfidfVectorizer(vocabulary=feature3, ngram_range=(1,2))\n",
        "TF_IDF3 = vectorizer3.fit_transform(station_list['station'].values)\n",
        "kmeans3 = KMeans(n_clusters=2, random_state=0).fit(TF_IDF3)\n",
        "closest3, _ = pairwise_distances_argmin_min(kmeans3.cluster_centers_, TF_IDF3)"
      ]
    },
    {
      "cell_type": "code",
      "execution_count": null,
      "metadata": {
        "id": "_J-qXus2RsBP"
      },
      "outputs": [],
      "source": [
        "sentences[station_index[closest3[0]]] # negative"
      ]
    },
    {
      "cell_type": "code",
      "execution_count": null,
      "metadata": {
        "id": "qnHPo32oTXSb"
      },
      "outputs": [],
      "source": [
        "sentences[station_index[closest3[1]]] # positive"
      ]
    },
    {
      "cell_type": "code",
      "execution_count": null,
      "metadata": {
        "id": "v54IVeWATuKy"
      },
      "outputs": [],
      "source": [
        "label3 = kmeans3.labels_\n",
        "opinion[\"senti3\"] = np.zeros(len(opinion))\n",
        "for i in range(len(label3)):\n",
        "  if label3[i] == 0:\n",
        "    opinion[\"senti3\"][station_index[i]] = -1\n",
        "  if label3[i] == 1:\n",
        "    opinion[\"senti3\"][station_index[i]] = 1"
      ]
    },
    {
      "cell_type": "markdown",
      "metadata": {
        "id": "qTZj-fkZYNrV"
      },
      "source": [
        "**Text Classification**"
      ]
    },
    {
      "cell_type": "code",
      "execution_count": null,
      "metadata": {
        "id": "yv_9VTI3TW-Z"
      },
      "outputs": [],
      "source": [
        "!pip install imbalanced-learn\n",
        "import imblearn\n",
        "from imblearn.over_sampling import ADASYN\n",
        "from imblearn.under_sampling import RandomUnderSampler\n",
        "from imblearn.pipeline import Pipeline\n",
        "import matplotlib.pyplot as plt  \n",
        "from sklearn.metrics import plot_confusion_matrix"
      ]
    },
    {
      "cell_type": "code",
      "execution_count": null,
      "metadata": {
        "id": "CxPFqNJW2gv-"
      },
      "outputs": [],
      "source": [
        "from sklearn.model_selection import train_test_split, cross_val_score, KFold, cross_validate\n",
        "from sklearn.linear_model import LogisticRegression\n",
        "from sklearn.ensemble import RandomForestClassifier\n",
        "from sklearn import metrics\n",
        "from sklearn.metrics import classification_report, confusion_matrix, roc_auc_score, roc_curve, f1_score, accuracy_score"
      ]
    },
    {
      "cell_type": "code",
      "execution_count": null,
      "metadata": {
        "id": "3RwKDHkyVp1A"
      },
      "outputs": [],
      "source": [
        "y = opinion['editor selection']\n",
        "X = opinion.iloc[:, 17:31]\n",
        "X = X.drop(['work'], axis=1)\n",
        "# X"
      ]
    },
    {
      "cell_type": "code",
      "execution_count": null,
      "metadata": {
        "id": "W42ITiPffsdT"
      },
      "outputs": [],
      "source": [
        "opinion['editor selection'].value_counts()"
      ]
    },
    {
      "cell_type": "code",
      "source": [
        "def isfloat(num):\n",
        "    try:\n",
        "        len(num)\n",
        "        return False\n",
        "    except ValueError:\n",
        "        return True\n"
      ],
      "metadata": {
        "id": "DlPvLrH8i3zC"
      },
      "execution_count": null,
      "outputs": []
    },
    {
      "cell_type": "code",
      "source": [
        "def func(s):\n",
        "  if type(s) == float:\n",
        "    return s\n",
        "  return 0.0"
      ],
      "metadata": {
        "id": "iV5kCgDZiKYM"
      },
      "execution_count": null,
      "outputs": []
    },
    {
      "cell_type": "code",
      "source": [
        "temp = pd.melt(X)\n",
        "X\n",
        "# X(['A'], axis=1)"
      ],
      "metadata": {
        "id": "6nPJZsmYgI_S"
      },
      "execution_count": null,
      "outputs": []
    },
    {
      "cell_type": "code",
      "execution_count": null,
      "metadata": {
        "id": "n9Ghwhw86h98"
      },
      "outputs": [],
      "source": [
        "temp['value'] = temp.value.apply(func)\n",
        "temp"
      ]
    },
    {
      "cell_type": "code",
      "execution_count": null,
      "metadata": {
        "id": "8yNf-Y1BeUvr"
      },
      "outputs": [],
      "source": [
        "import seaborn as sns\n",
        "sns.set(style=\"white\")\n",
        "graph = sns.countplot(x = opinion['editor selection'], data = opinion,palette=\"hls\")\n",
        "i = 0\n",
        "for p in graph.patches:\n",
        "  height = p.get_height()  \n",
        "  graph.text(p.get_x()+p.get_width()/2., height + 0.1,\n",
        "         '{0:.0%}'.format((opinion['editor selection'].value_counts()[i])/26717),ha=\"center\")\n",
        "  i += 1\n",
        "plt.figure\n",
        "plt.savefig('fig5.eps', bbox_inches='tight')\n"
      ]
    },
    {
      "cell_type": "code",
      "execution_count": null,
      "metadata": {
        "id": "0sfTlQ6uq7ie"
      },
      "outputs": [],
      "source": [
        "graph2 = sns.countplot(x=\"variable\", hue=\"value\", data=temp)\n",
        "graph2.set_xticklabels(graph2.get_xticklabels(), rotation=40, ha=\"right\")\n",
        "plt.xlabel('Aspects')\n",
        "plt.figure\n",
        "plt.savefig('fig6.eps', bbox_inches='tight')\n"
      ]
    },
    {
      "cell_type": "code",
      "execution_count": null,
      "metadata": {
        "id": "w2I6RDC05Sxt"
      },
      "outputs": [],
      "source": [
        "# oversample = ADASYN()\n",
        "# print(X)\n",
        "# print(y)\n",
        "# X, y = oversample.fit_resample(X, y)"
      ]
    },
    {
      "cell_type": "code",
      "execution_count": null,
      "metadata": {
        "id": "C9WIftDv5icI"
      },
      "outputs": [],
      "source": [
        "Counter(y)"
      ]
    },
    {
      "cell_type": "code",
      "execution_count": null,
      "metadata": {
        "id": "gL6-JRzBv8O8"
      },
      "outputs": [],
      "source": [
        "X_train, X_test, y_train, y_test = train_test_split(X,y,test_size=0.4,random_state=11,stratify=y)"
      ]
    },
    {
      "cell_type": "code",
      "execution_count": null,
      "metadata": {
        "id": "pnWOl6fj3Jpu"
      },
      "outputs": [],
      "source": [
        "cv = KFold(n_splits=10, random_state=1, shuffle=True)"
      ]
    },
    {
      "cell_type": "code",
      "execution_count": null,
      "metadata": {
        "id": "a_18y89uD0hJ"
      },
      "outputs": [],
      "source": [
        "forest1 = RandomForestClassifier(oob_score = True, n_jobs = -1)"
      ]
    },
    {
      "cell_type": "code",
      "execution_count": null,
      "metadata": {
        "id": "P2pMzNDWkb0W"
      },
      "outputs": [],
      "source": [
        "clf1 = LogisticRegression(random_state=0)"
      ]
    },
    {
      "cell_type": "code",
      "execution_count": null,
      "metadata": {
        "id": "3wXuKR_J7mgc"
      },
      "outputs": [],
      "source": [
        "scores1 = cross_val_score(forest1, X_train, y_train, scoring='accuracy', cv=cv, n_jobs=-1)"
      ]
    },
    {
      "cell_type": "code",
      "execution_count": null,
      "metadata": {
        "id": "UqDso-TSlXS_"
      },
      "outputs": [],
      "source": [
        "scores2 = cross_val_score(clf1, X_train, y_train, scoring='accuracy', cv=cv, n_jobs=-1)"
      ]
    },
    {
      "cell_type": "code",
      "execution_count": null,
      "metadata": {
        "id": "yPbXuBRT7xND"
      },
      "outputs": [],
      "source": [
        "from numpy import mean, std"
      ]
    },
    {
      "cell_type": "code",
      "execution_count": null,
      "metadata": {
        "id": "e5x9vVkL7vmZ"
      },
      "outputs": [],
      "source": [
        "print('Performce of Random Forest: %.3f' % (mean(scores1)))"
      ]
    },
    {
      "cell_type": "code",
      "execution_count": null,
      "metadata": {
        "id": "NKcyyUYylb9t"
      },
      "outputs": [],
      "source": [
        "print('Performance of Logistic Regraression: %.3f' % (mean(scores2)))"
      ]
    },
    {
      "cell_type": "code",
      "execution_count": null,
      "metadata": {
        "id": "5eDTA7JxwvO-"
      },
      "outputs": [],
      "source": [
        "y_test_pred1 = forest1.fit(X_train,y_train).predict(X_test)\n",
        "y_test_pred2 = clf1.fit(X_train,y_train).predict(X_test)"
      ]
    },
    {
      "cell_type": "code",
      "execution_count": null,
      "metadata": {
        "id": "P8ueCtG0jRGi"
      },
      "outputs": [],
      "source": [
        "print(\"Accuracy of test - Random Forest:\",metrics.accuracy_score(y_test, y_test_pred1))\n",
        "print(\"Accuracy of test - Logistic Regression:\",metrics.accuracy_score(y_test, y_test_pred2))"
      ]
    },
    {
      "cell_type": "code",
      "execution_count": null,
      "metadata": {
        "id": "f6n57x-Ye9HN"
      },
      "outputs": [],
      "source": [
        "target_names = [\"0\",\"1\"]\n",
        "print(classification_report(y_test, y_test_pred1, target_names=target_names))"
      ]
    },
    {
      "cell_type": "code",
      "execution_count": null,
      "metadata": {
        "id": "LBKrUh3CzAW4"
      },
      "outputs": [],
      "source": [
        "print(classification_report(y_test, y_test_pred2, target_names=target_names))"
      ]
    },
    {
      "cell_type": "code",
      "execution_count": null,
      "metadata": {
        "id": "NCOmlDT_ZPpi"
      },
      "outputs": [],
      "source": [
        "import matplotlib.pyplot as plt  \n",
        "from sklearn.metrics import plot_confusion_matrix\n",
        "cm1 = plot_confusion_matrix(forest1, X_test, y_test, display_labels = ['0','1'], cmap=plt.cm.Blues, values_format = \"d\")\n",
        "plt.title(\"Model a\",fontweight=\"bold\")\n",
        "cm1.ax_.get_images()[0].set_clim(1500, 9000)\n",
        "plt.figure\n",
        "plt.savefig('fig1.eps', bbox_inches='tight')\n"
      ]
    },
    {
      "cell_type": "code",
      "execution_count": null,
      "metadata": {
        "id": "K37EljlmzT19"
      },
      "outputs": [],
      "source": [
        "cm2 = plot_confusion_matrix(clf1, X_test, y_test, display_labels = ['0','1'], cmap=plt.cm.Blues, values_format = \"d\")\n",
        "plt.title(\"Model b\",fontweight=\"bold\")\n",
        "cm2.ax_.get_images()[0].set_clim(1500, 9000)\n",
        "plt.figure\n",
        "plt.savefig('fig2.eps', bbox_inches='tight')\n"
      ]
    },
    {
      "cell_type": "code",
      "execution_count": null,
      "metadata": {
        "id": "noryVm_vnNCf"
      },
      "outputs": [],
      "source": [
        "forest_roc_auc = roc_auc_score(y_test, forest1.predict(X_test))\n",
        "fpr, tpr, thresholds = roc_curve(y_test, forest1.predict_proba(X_test)[:,1])\n",
        "plt.figure()\n",
        "plt.plot(fpr, tpr, label='Random Forest (area = %0.2f)' % forest_roc_auc)\n",
        "plt.plot([0, 1], [0, 1],'r--')\n",
        "plt.xlim([0.0, 1.0])\n",
        "plt.ylim([0.0, 1.05])\n",
        "plt.xlabel('False Positive Rate')\n",
        "plt.ylabel('True Positive Rate')\n",
        "plt.title(\"Model a\",fontweight=\"bold\")\n",
        "plt.legend(loc=\"lower right\")\n",
        "plt.figure\n",
        "plt.savefig('fig7.eps', bbox_inches='tight')\n"
      ]
    },
    {
      "cell_type": "code",
      "execution_count": null,
      "metadata": {
        "id": "taGMP76cmITg"
      },
      "outputs": [],
      "source": [
        "logit_roc_auc = roc_auc_score(y_test, clf1.predict(X_test))\n",
        "fpr, tpr, thresholds = roc_curve(y_test, clf1.predict_proba(X_test)[:,1])\n",
        "plt.figure()\n",
        "plt.plot(fpr, tpr, label='Logistic Regression (area = %0.2f)' % logit_roc_auc)\n",
        "plt.plot([0, 1], [0, 1],'r--')\n",
        "plt.xlim([0.0, 1.0])\n",
        "plt.ylim([0.0, 1.05])\n",
        "plt.xlabel('False Positive Rate')\n",
        "plt.ylabel('True Positive Rate')\n",
        "plt.title(\"Model b\",fontweight=\"bold\")\n",
        "plt.legend(loc=\"lower right\")\n",
        "plt.figure\n",
        "plt.savefig('fig8.eps', bbox_inches='tight')\n"
      ]
    },
    {
      "cell_type": "code",
      "execution_count": null,
      "metadata": {
        "id": "wbp89P1t7UPy"
      },
      "outputs": [],
      "source": [
        "X_c = np.zeros([4006, 6])\n",
        "X"
      ]
    },
    {
      "cell_type": "code",
      "execution_count": null,
      "metadata": {
        "id": "4dzj5Yli78qK"
      },
      "outputs": [],
      "source": [
        "# dummy\n",
        "# print(type(X))\n",
        "temp=X.values.tolist()\n",
        "\n",
        "for j in range(4006):\n",
        "  for i in range(3):\n",
        "    ii = 2*i\n",
        "    # print(X[j,i])\n",
        "    if temp[j][i] == 1:\n",
        "      X_c[j][ii] = 1\n",
        "    if temp[j][i] == -1:\n",
        "      X_c[j][ii+1] = 1"
      ]
    },
    {
      "cell_type": "code",
      "execution_count": null,
      "metadata": {
        "id": "G-YrAtRB4WXb"
      },
      "outputs": [],
      "source": [
        "X_train_c, X_test_c, y_train_c, y_test_c = train_test_split(X_c,y,test_size=0.4,random_state=11,stratify=y)"
      ]
    },
    {
      "cell_type": "code",
      "execution_count": null,
      "metadata": {
        "id": "GpzMwPvPQfPM"
      },
      "outputs": [],
      "source": [
        "forest2 = RandomForestClassifier(oob_score = True, n_jobs = -1)"
      ]
    },
    {
      "cell_type": "code",
      "execution_count": null,
      "metadata": {
        "id": "77STvf1tQfPN"
      },
      "outputs": [],
      "source": [
        "clf2 = LogisticRegression(random_state=0)"
      ]
    },
    {
      "cell_type": "code",
      "execution_count": null,
      "metadata": {
        "id": "EAkkjBXD4SxD"
      },
      "outputs": [],
      "source": [
        "scores3 = cross_val_score(forest2, X_train_c, y_train_c, scoring='accuracy', cv=cv, n_jobs=-1)"
      ]
    },
    {
      "cell_type": "code",
      "execution_count": null,
      "metadata": {
        "id": "NoXz1FSD4SxE"
      },
      "outputs": [],
      "source": [
        "scores4 = cross_val_score(clf2, X_train_c, y_train_c, scoring='accuracy', cv=cv, n_jobs=-1)"
      ]
    },
    {
      "cell_type": "code",
      "execution_count": null,
      "metadata": {
        "id": "E-hFmVRE4SxF"
      },
      "outputs": [],
      "source": [
        "print('Performce of Random Forest: %.3f' % (mean(scores3)))"
      ]
    },
    {
      "cell_type": "code",
      "execution_count": null,
      "metadata": {
        "id": "9SshBk_l4SxH"
      },
      "outputs": [],
      "source": [
        "print('Performance of Logistic Regraression: %.3f' % (mean(scores4)))"
      ]
    },
    {
      "cell_type": "code",
      "execution_count": null,
      "metadata": {
        "id": "8Sa8vw2n4SxI"
      },
      "outputs": [],
      "source": [
        "y_test_pred3 = forest2.fit(X_train_c,y_train_c).predict(X_test_c)\n",
        "y_test_pred4 = clf2.fit(X_train_c,y_train_c).predict(X_test_c)"
      ]
    },
    {
      "cell_type": "code",
      "execution_count": null,
      "metadata": {
        "id": "ts45a_7P4SxJ"
      },
      "outputs": [],
      "source": [
        "print(\"Accuracy of test - Random Forest:\",metrics.accuracy_score(y_test_c, y_test_pred3))\n",
        "print(\"Accuracy of test - Logistic Regression:\",metrics.accuracy_score(y_test_c, y_test_pred4))"
      ]
    },
    {
      "cell_type": "code",
      "execution_count": null,
      "metadata": {
        "id": "o14qVJfz4SxJ"
      },
      "outputs": [],
      "source": [
        "print(classification_report(y_test_c, y_test_pred3, target_names=target_names))"
      ]
    },
    {
      "cell_type": "code",
      "execution_count": null,
      "metadata": {
        "id": "_bExFMkL4SxK"
      },
      "outputs": [],
      "source": [
        "print(classification_report(y_test_c, y_test_pred4, target_names=target_names))"
      ]
    },
    {
      "cell_type": "code",
      "execution_count": null,
      "metadata": {
        "id": "red1-tAIRK97"
      },
      "outputs": [],
      "source": [
        "forest_roc_auc = roc_auc_score(y_test_c, forest2.predict(X_test_c))\n",
        "fpr, tpr, thresholds = roc_curve(y_test_c, forest2.predict_proba(X_test_c)[:,1])\n",
        "plt.figure()\n",
        "plt.plot(fpr, tpr, label='Random Forest (area = %0.2f)' % forest_roc_auc)\n",
        "plt.plot([0, 1], [0, 1],'r--')\n",
        "plt.xlim([0.0, 1.0])\n",
        "plt.ylim([0.0, 1.05])\n",
        "plt.xlabel('False Positive Rate')\n",
        "plt.ylabel('True Positive Rate')\n",
        "plt.title(\"Model c\",fontweight=\"bold\")\n",
        "plt.legend(loc=\"lower right\")\n",
        "plt.figure\n",
        "plt.savefig('fig9.eps', bbox_inches='tight')\n",
        "# files.download(\"fig9.eps\")"
      ]
    },
    {
      "cell_type": "code",
      "execution_count": null,
      "metadata": {
        "id": "mQV-bXzgFkUQ"
      },
      "outputs": [],
      "source": [
        "lr_roc_auc = roc_auc_score(y_test_c, clf2.predict(X_test_c))\n",
        "fpr, tpr, thresholds = roc_curve(y_test_c, clf2.predict_proba(X_test_c)[:,1])\n",
        "plt.figure()\n",
        "plt.plot(fpr, tpr, label='Logistic Regression (area = %0.2f)' % logit_roc_auc)\n",
        "plt.plot([0, 1], [0, 1],'r--')\n",
        "plt.xlim([0.0, 1.0])\n",
        "plt.ylim([0.0, 1.05])\n",
        "plt.xlabel('False Positive Rate')\n",
        "plt.ylabel('True Positive Rate')\n",
        "plt.legend(loc=\"lower right\")\n",
        "plt.title(\"Model d\",fontweight=\"bold\")\n",
        "plt.legend(loc=\"lower right\")\n",
        "plt.figure\n",
        "plt.savefig('fig10.eps', bbox_inches='tight')\n",
        "# files.download(\"fig10.eps\")"
      ]
    },
    {
      "cell_type": "code",
      "execution_count": null,
      "metadata": {
        "id": "_S-eQhETGPDt"
      },
      "outputs": [],
      "source": [
        "cm3 = plot_confusion_matrix(forest2, X_test_c, y_test_c, display_labels = ['0','1'], cmap=plt.cm.Blues, values_format = \"d\")\n",
        "cm3.ax_.get_images()[0].set_clim(1500, 9000)\n",
        "plt.title(\"Model c\",fontweight=\"bold\")\n",
        "plt.figure\n",
        "plt.savefig('fig3.eps', bbox_inches='tight')\n",
        "# files.download(\"fig3.eps\")"
      ]
    },
    {
      "cell_type": "code",
      "execution_count": null,
      "metadata": {
        "id": "_yCgngq1F-hG"
      },
      "outputs": [],
      "source": [
        "cm4 = plot_confusion_matrix(clf2, X_test_c, y_test_c, display_labels = ['0','1'], cmap=plt.cm.Blues, values_format = \"d\")\n",
        "cm4.ax_.get_images()[0].set_clim(1500, 9000)\n",
        "plt.title(\"Model d\",fontweight=\"bold\")\n",
        "plt.figure\n",
        "plt.savefig('fig4.eps', bbox_inches='tight')\n",
        "# files.download(\"fig4.eps\")"
      ]
    }
  ],
  "metadata": {
    "colab": {
      "collapsed_sections": [],
      "provenance": [],
      "include_colab_link": true
    },
    "kernelspec": {
      "display_name": "Python 3",
      "name": "python3"
    },
    "language_info": {
      "name": "python"
    }
  },
  "nbformat": 4,
  "nbformat_minor": 0
}